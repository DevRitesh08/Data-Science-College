{
 "cells": [
  {
   "metadata": {},
   "cell_type": "markdown",
   "source": "Q : WAP to print fibonacci series up to n terms.",
   "id": "3be144cf7c24d59b"
  },
  {
   "cell_type": "code",
   "id": "initial_id",
   "metadata": {
    "collapsed": true,
    "ExecuteTime": {
     "end_time": "2025-09-19T04:00:02.152088Z",
     "start_time": "2025-09-19T03:59:58.185485Z"
    }
   },
   "source": [
    "print(\"Enter the number of terms:\")\n",
    "n = int(input())\n",
    "a, b = 0, 1\n",
    "while n > 0:\n",
    "    print(a, end='\\t')\n",
    "    a, b = b, a + b\n",
    "    n -= 1"
   ],
   "outputs": [
    {
     "name": "stdout",
     "output_type": "stream",
     "text": [
      "Enter the number of terms:\n",
      "0\t1\t1\t2\t3\t5\t8\t13\t21\t34\t"
     ]
    }
   ],
   "execution_count": 4
  },
  {
   "metadata": {},
   "cell_type": "markdown",
   "source": "Q : WAP to print factorial of a number.",
   "id": "d94591b106901247"
  },
  {
   "metadata": {
    "ExecuteTime": {
     "end_time": "2025-09-19T03:58:11.973144Z",
     "start_time": "2025-09-19T03:58:07.832171Z"
    }
   },
   "cell_type": "code",
   "source": [
    "print(\"enter a number:\")\n",
    "n = int(input())\n",
    "num = n\n",
    "fact = 1\n",
    "while n > 0:\n",
    "    fact *= n\n",
    "    n -= 1\n",
    "print(f\"Factorial of {num} is:\", fact)"
   ],
   "id": "44174d208f25aa6c",
   "outputs": [
    {
     "name": "stdout",
     "output_type": "stream",
     "text": [
      "enter a number:\n",
      "Factorial of 5 is: 120\n"
     ]
    }
   ],
   "execution_count": 3
  },
  {
   "metadata": {},
   "cell_type": "markdown",
   "source": "Q : WAP to ckeck whether a number is prime or not.",
   "id": "e55923f3f258650f"
  },
  {
   "metadata": {
    "ExecuteTime": {
     "end_time": "2025-09-19T04:35:42.312152Z",
     "start_time": "2025-09-19T04:35:38.813207Z"
    }
   },
   "cell_type": "code",
   "source": [
    "num = int(input(\"Enter a number: \"))\n",
    "check = round(num**0.5)\n",
    "c = 2\n",
    "while c <= check:\n",
    "    if num % c == 0:\n",
    "        print(f\"{num} is not a prime number.\")\n",
    "        break\n",
    "    c += 1\n",
    "else:\n",
    "    print(f\"{num} is a prime number.\")"
   ],
   "id": "c2a854525d7e8c09",
   "outputs": [
    {
     "name": "stdout",
     "output_type": "stream",
     "text": [
      "15 is not a prime number.\n"
     ]
    }
   ],
   "execution_count": 21
  },
  {
   "metadata": {
    "ExecuteTime": {
     "end_time": "2025-09-19T04:43:47.982272Z",
     "start_time": "2025-09-19T04:43:42.914078Z"
    }
   },
   "cell_type": "code",
   "source": [
    "# if we have to print all prime numbers up to n terms\n",
    "n = int(input(\"Enter the limit up to which you want to print prime numbers: \"))\n",
    "print(f\"Prime numbers up to {n} are:\")\n",
    "while n >= 2:\n",
    "    is_prime = True\n",
    "    while n >= 2:\n",
    "        check = round(n**0.5)\n",
    "        c = 2\n",
    "        while c <= check:\n",
    "            if n % c == 0:\n",
    "                is_prime = False\n",
    "                break\n",
    "            c += 1\n",
    "        if is_prime:\n",
    "            print(n, end='\\t')\n",
    "        n -= 1"
   ],
   "id": "540b8f24d5729bd4",
   "outputs": [
    {
     "name": "stdout",
     "output_type": "stream",
     "text": [
      "Prime numbers up to 10 are:\n"
     ]
    }
   ],
   "execution_count": 28
  },
  {
   "metadata": {
    "ExecuteTime": {
     "end_time": "2025-09-19T04:35:49.027741Z",
     "start_time": "2025-09-19T04:35:45.448821Z"
    }
   },
   "cell_type": "code",
   "source": [
    "input_num = int(input(\"Enter a number: \"))\n",
    "is_prime = True\n",
    "if input_num <= 1:\n",
    "    is_prime = False\n",
    "else:\n",
    "    for i in range(2, int(input_num**0.5) + 1):\n",
    "        if input_num % i == 0:\n",
    "            is_prime = False\n",
    "            break\n",
    "if is_prime:\n",
    "    print(f\"{input_num} is a prime number.\")\n",
    "else:\n",
    "    print(f\"{input_num} is not a prime number.\")\n"
   ],
   "id": "17feeaa835dd96b5",
   "outputs": [
    {
     "name": "stdout",
     "output_type": "stream",
     "text": [
      "15 is not a prime number.\n"
     ]
    }
   ],
   "execution_count": 22
  },
  {
   "metadata": {
    "ExecuteTime": {
     "end_time": "2025-09-19T04:36:01.419162Z",
     "start_time": "2025-09-19T04:35:56.755391Z"
    }
   },
   "cell_type": "code",
   "source": [
    "# if we have to print all prime numbers up to n terms\n",
    "n = int(input(\"Enter the limit up to which you want to print prime numbers: \"))\n",
    "print(f\"Prime numbers up to {n} are:\")\n",
    "for num in range(2, n + 1): # here num starts from 2 because 0 and 1 are not prime numbers . here n+1 because range function excludes the last number\n",
    "    is_prime = True\n",
    "    for i in range(2, int(num**0.5) + 1):\n",
    "        if num % i == 0:\n",
    "            is_prime = False\n",
    "            break\n",
    "    if is_prime:\n",
    "        print(num, end='\\t')"
   ],
   "id": "f820762131c56a7e",
   "outputs": [
    {
     "name": "stdout",
     "output_type": "stream",
     "text": [
      "Prime numbers up to 15 are:\n",
      "2\t3\t5\t7\t11\t13\t"
     ]
    }
   ],
   "execution_count": 23
  },
  {
   "metadata": {},
   "cell_type": "markdown",
   "source": "Q : WAP to print all Armstrong numbers between 1 to n .",
   "id": "d7ab58ccb51b67f5"
  },
  {
   "metadata": {
    "ExecuteTime": {
     "end_time": "2025-09-19T04:53:46.114972Z",
     "start_time": "2025-09-19T04:53:41.961762Z"
    }
   },
   "cell_type": "code",
   "source": [
    "num = int(input(\"Enter a number: \"))\n",
    "cpy = num\n",
    "sum = 0\n",
    "order = len(str(num))\n",
    "while cpy != 0 :\n",
    "    digit = cpy % 10\n",
    "    sum += digit ** order\n",
    "    cpy //= 10\n",
    "if sum == num:\n",
    "    print(f\"{num} is an Armstrong number.\")\n",
    "else:\n",
    "    print(f\"{num} is not an Armstrong number.\")"
   ],
   "id": "633a92ff0eb7b949",
   "outputs": [
    {
     "name": "stdout",
     "output_type": "stream",
     "text": [
      "90 is not an Armstrong number.\n"
     ]
    }
   ],
   "execution_count": 36
  },
  {
   "metadata": {
    "ExecuteTime": {
     "end_time": "2025-09-19T04:49:52.757940Z",
     "start_time": "2025-09-19T04:49:49.215777Z"
    }
   },
   "cell_type": "code",
   "source": [
    "num = int(input(\"Enter the limit up to which you want to print Armstrong numbers: \"))\n",
    "print(f\"Armstrong numbers up to {num} are:\")\n",
    "for n in range(1, num + 1) :\n",
    "    order = len(str(n))\n",
    "    sum = 0\n",
    "    temp = n\n",
    "    while temp > 0:\n",
    "        digit = temp % 10\n",
    "        sum += digit ** order\n",
    "        temp //= 10\n",
    "    if sum == n:\n",
    "        print(n, end='\\t')\n"
   ],
   "id": "a7e93a14a412e41",
   "outputs": [
    {
     "name": "stdout",
     "output_type": "stream",
     "text": [
      "Armstrong numbers up to 1000 are:\n",
      "1\t2\t3\t4\t5\t6\t7\t8\t9\t153\t370\t371\t407\t"
     ]
    }
   ],
   "execution_count": 31
  },
  {
   "metadata": {},
   "cell_type": "code",
   "outputs": [],
   "execution_count": null,
   "source": "",
   "id": "a3f3849af721a7e3"
  }
 ],
 "metadata": {
  "kernelspec": {
   "display_name": "Python 3",
   "language": "python",
   "name": "python3"
  },
  "language_info": {
   "codemirror_mode": {
    "name": "ipython",
    "version": 2
   },
   "file_extension": ".py",
   "mimetype": "text/x-python",
   "name": "python",
   "nbconvert_exporter": "python",
   "pygments_lexer": "ipython2",
   "version": "2.7.6"
  }
 },
 "nbformat": 4,
 "nbformat_minor": 5
}
