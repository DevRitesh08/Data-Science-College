{
 "cells": [
  {
   "cell_type": "markdown",
   "id": "0c54cc19",
   "metadata": {},
   "source": [
    "# INPUT / OUTPUT"
   ]
  },
  {
   "cell_type": "code",
   "execution_count": 2,
   "id": "345a446c",
   "metadata": {},
   "outputs": [
    {
     "name": "stdout",
     "output_type": "stream",
     "text": [
      "Ravi is Awesome!!\n"
     ]
    }
   ],
   "source": [
    "print(\"Ravi is Awesome!!\") #sys.stdout"
   ]
  },
  {
   "cell_type": "code",
   "execution_count": 3,
   "id": "a42aa994",
   "metadata": {},
   "outputs": [
    {
     "name": "stdout",
     "output_type": "stream",
     "text": [
      "5\n",
      "9\n"
     ]
    }
   ],
   "source": [
    "a = 5\n",
    "b = 9\n",
    "print(a)\n",
    "print(b) #Standard Output"
   ]
  },
  {
   "cell_type": "code",
   "execution_count": 5,
   "id": "a0bb3337",
   "metadata": {},
   "outputs": [
    {
     "data": {
      "text/plain": [
       "5"
      ]
     },
     "execution_count": 5,
     "metadata": {},
     "output_type": "execute_result"
    }
   ],
   "source": [
    "a #terminal Output"
   ]
  },
  {
   "cell_type": "code",
   "execution_count": 6,
   "id": "c5cd9d7c",
   "metadata": {},
   "outputs": [
    {
     "data": {
      "text/plain": [
       "9"
      ]
     },
     "execution_count": 6,
     "metadata": {},
     "output_type": "execute_result"
    }
   ],
   "source": [
    "a\n",
    "b"
   ]
  },
  {
   "cell_type": "code",
   "execution_count": 7,
   "id": "eecb55eb",
   "metadata": {},
   "outputs": [
    {
     "name": "stdout",
     "output_type": "stream",
     "text": [
      "Hello World!!\n"
     ]
    }
   ],
   "source": [
    "print(\"Hello World!!\")"
   ]
  },
  {
   "cell_type": "code",
   "execution_count": 8,
   "id": "a1c80e4c",
   "metadata": {},
   "outputs": [],
   "source": [
    "#input"
   ]
  },
  {
   "cell_type": "code",
   "execution_count": 9,
   "id": "4057f8e2",
   "metadata": {},
   "outputs": [
    {
     "name": "stdout",
     "output_type": "stream",
     "text": [
      "45\n"
     ]
    },
    {
     "data": {
      "text/plain": [
       "'45'"
      ]
     },
     "execution_count": 9,
     "metadata": {},
     "output_type": "execute_result"
    }
   ],
   "source": [
    "input() #2.0 --> raw_input"
   ]
  },
  {
   "cell_type": "code",
   "execution_count": 11,
   "id": "f4067cfb",
   "metadata": {},
   "outputs": [
    {
     "name": "stdout",
     "output_type": "stream",
     "text": [
      "Enter your name --> Ravi Ramawat\n",
      "My name is  Ravi Ramawat\n"
     ]
    }
   ],
   "source": [
    "name = input(\"Enter your name --> \")\n",
    "print(\"My name is\",name)"
   ]
  },
  {
   "cell_type": "code",
   "execution_count": 13,
   "id": "05efd229",
   "metadata": {},
   "outputs": [
    {
     "name": "stdout",
     "output_type": "stream",
     "text": [
      "Enter the value of a -->4\n",
      "Enter the value of b -->5\n",
      "4 + 5 = 9\n"
     ]
    }
   ],
   "source": [
    "a = int(input(\"Enter the value of a -->\"))\n",
    "b = int(input(\"Enter the value of b -->\"))\n",
    "print(a,\"+\",b,\"=\",a+b)"
   ]
  },
  {
   "cell_type": "markdown",
   "id": "628f57a4",
   "metadata": {},
   "source": [
    "#### Keywords"
   ]
  },
  {
   "cell_type": "code",
   "execution_count": 14,
   "id": "adcb5296",
   "metadata": {},
   "outputs": [
    {
     "name": "stdout",
     "output_type": "stream",
     "text": [
      "\n",
      "Here is a list of the Python keywords.  Enter any keyword to get more help.\n",
      "\n",
      "False               class               from                or\n",
      "None                continue            global              pass\n",
      "True                def                 if                  raise\n",
      "and                 del                 import              return\n",
      "as                  elif                in                  try\n",
      "assert              else                is                  while\n",
      "async               except              lambda              with\n",
      "await               finally             nonlocal            yield\n",
      "break               for                 not                 \n",
      "\n"
     ]
    }
   ],
   "source": [
    "help('keywords')"
   ]
  },
  {
   "cell_type": "markdown",
   "id": "ee052f7e",
   "metadata": {},
   "source": [
    "### Identifiers"
   ]
  },
  {
   "cell_type": "code",
   "execution_count": 15,
   "id": "b5936904",
   "metadata": {},
   "outputs": [],
   "source": [
    "a_23Ab = 23 #rule 1"
   ]
  },
  {
   "cell_type": "code",
   "execution_count": 16,
   "id": "e7368d60",
   "metadata": {},
   "outputs": [
    {
     "name": "stdout",
     "output_type": "stream",
     "text": [
      "23\n"
     ]
    }
   ],
   "source": [
    "print(a_23Ab)"
   ]
  },
  {
   "cell_type": "code",
   "execution_count": 17,
   "id": "8d8758e1",
   "metadata": {},
   "outputs": [
    {
     "ename": "SyntaxError",
     "evalue": "invalid decimal literal (3976816184.py, line 1)",
     "output_type": "error",
     "traceback": [
      "\u001b[1;36m  Cell \u001b[1;32mIn[17], line 1\u001b[1;36m\u001b[0m\n\u001b[1;33m    345abc = \"Ravi\"\u001b[0m\n\u001b[1;37m      ^\u001b[0m\n\u001b[1;31mSyntaxError\u001b[0m\u001b[1;31m:\u001b[0m invalid decimal literal\n"
     ]
    }
   ],
   "source": [
    "345abc = \"Ravi\" #rule 2"
   ]
  },
  {
   "cell_type": "code",
   "execution_count": 18,
   "id": "751c05ab",
   "metadata": {},
   "outputs": [
    {
     "ename": "SyntaxError",
     "evalue": "invalid syntax (4262375367.py, line 1)",
     "output_type": "error",
     "traceback": [
      "\u001b[1;36m  Cell \u001b[1;32mIn[18], line 1\u001b[1;36m\u001b[0m\n\u001b[1;33m    hello world = \"Ravi\"\u001b[0m\n\u001b[1;37m          ^\u001b[0m\n\u001b[1;31mSyntaxError\u001b[0m\u001b[1;31m:\u001b[0m invalid syntax\n"
     ]
    }
   ],
   "source": [
    "hello world = \"Ravi\" #rule 3"
   ]
  },
  {
   "cell_type": "code",
   "execution_count": 19,
   "id": "e0d16c56",
   "metadata": {},
   "outputs": [
    {
     "ename": "SyntaxError",
     "evalue": "invalid syntax (3361133389.py, line 1)",
     "output_type": "error",
     "traceback": [
      "\u001b[1;36m  Cell \u001b[1;32mIn[19], line 1\u001b[1;36m\u001b[0m\n\u001b[1;33m    abc@def = 24\u001b[0m\n\u001b[1;37m        ^\u001b[0m\n\u001b[1;31mSyntaxError\u001b[0m\u001b[1;31m:\u001b[0m invalid syntax\n"
     ]
    }
   ],
   "source": [
    "abc@def = 24 #rule 4"
   ]
  },
  {
   "cell_type": "code",
   "execution_count": 22,
   "id": "d81fb117",
   "metadata": {},
   "outputs": [
    {
     "ename": "SyntaxError",
     "evalue": "invalid syntax (703165.py, line 1)",
     "output_type": "error",
     "traceback": [
      "\u001b[1;36m  Cell \u001b[1;32mIn[22], line 1\u001b[1;36m\u001b[0m\n\u001b[1;33m    if = \"hello\" #rule 5\u001b[0m\n\u001b[1;37m       ^\u001b[0m\n\u001b[1;31mSyntaxError\u001b[0m\u001b[1;31m:\u001b[0m invalid syntax\n"
     ]
    }
   ],
   "source": [
    "if = \"hello\" #rule 5"
   ]
  },
  {
   "cell_type": "markdown",
   "id": "1ac69474",
   "metadata": {},
   "source": [
    "# Data Types "
   ]
  },
  {
   "cell_type": "markdown",
   "id": "84c9d447",
   "metadata": {},
   "source": [
    "- Numbers\n",
    "    - int\n",
    "    - float\n",
    "    - complex\n",
    "- Sequence\n",
    "    - string\n",
    "    - list\n",
    "    - tuple\n",
    "- Mapping\n",
    "    - Dictionary\n",
    "    - Set\n",
    "- Boolean"
   ]
  },
  {
   "cell_type": "markdown",
   "id": "1727091e",
   "metadata": {},
   "source": [
    "### Numbers"
   ]
  },
  {
   "cell_type": "code",
   "execution_count": 23,
   "id": "16bc056b",
   "metadata": {},
   "outputs": [],
   "source": [
    "#integer"
   ]
  },
  {
   "cell_type": "code",
   "execution_count": 24,
   "id": "d57778c5",
   "metadata": {},
   "outputs": [
    {
     "name": "stdout",
     "output_type": "stream",
     "text": [
      "982135468235463278463279860179823689506739281480327592820748598286834097852918280346365983 <class 'int'>\n",
      "-987213539814807320694728591823874090273540259894672672361 <class 'int'>\n",
      "0 <class 'int'>\n"
     ]
    }
   ],
   "source": [
    "a = 982135468235463278463279860179823689506739281480327592820748598286834097852918280346365983\n",
    "b = -987213539814807320694728591823874090273540259894672672361\n",
    "c = 0\n",
    "print(a,type(a))\n",
    "print(b,type(b))\n",
    "print(c,type(c))"
   ]
  },
  {
   "cell_type": "markdown",
   "id": "ad8be4e2",
   "metadata": {},
   "source": [
    "### float"
   ]
  },
  {
   "cell_type": "code",
   "execution_count": 25,
   "id": "ac4f0d6d",
   "metadata": {},
   "outputs": [
    {
     "name": "stdout",
     "output_type": "stream",
     "text": [
      "2343252352352.2354 <class 'float'>\n",
      "-324235235432.32526 <class 'float'>\n",
      "0.0 <class 'float'>\n"
     ]
    }
   ],
   "source": [
    "a = 2343252352352.23523423\n",
    "b = -324235235432.3252354\n",
    "c = 0.0\n",
    "print(a,type(a))\n",
    "print(b,type(b))\n",
    "print(c,type(c))"
   ]
  },
  {
   "cell_type": "markdown",
   "id": "f14847df",
   "metadata": {},
   "source": [
    "#### Complex Numbers"
   ]
  },
  {
   "cell_type": "code",
   "execution_count": 26,
   "id": "4221b4be",
   "metadata": {},
   "outputs": [
    {
     "name": "stdout",
     "output_type": "stream",
     "text": [
      "(34+9j) <class 'complex'>\n",
      "(-9-3j) <class 'complex'>\n"
     ]
    }
   ],
   "source": [
    "a = 34+9j\n",
    "b = -9-3j\n",
    "print(a,type(a))\n",
    "print(b,type(b))"
   ]
  },
  {
   "cell_type": "markdown",
   "id": "ec52ab9f",
   "metadata": {},
   "source": [
    "## Sequence"
   ]
  },
  {
   "cell_type": "markdown",
   "id": "43da642e",
   "metadata": {},
   "source": [
    "### Strings\n",
    "\n",
    "    It is a collection of characters"
   ]
  },
  {
   "cell_type": "code",
   "execution_count": 28,
   "id": "e621058f",
   "metadata": {},
   "outputs": [
    {
     "name": "stdout",
     "output_type": "stream",
     "text": [
      "Ravi Ramawat <class 'str'>\n",
      "Ravi Ramawat <class 'str'>\n",
      "Ravi Ramawat <class 'str'>\n",
      "Ravi Ramawat <class 'str'>\n"
     ]
    }
   ],
   "source": [
    "s1 = 'Ravi Ramawat'  #single line str\n",
    "s2 = \"Ravi Ramawat\"  #single line str\n",
    "s3 = '''Ravi Ramawat'''  #multiple line str\n",
    "s4 = \"\"\"Ravi Ramawat\"\"\"  #multiple line str\n",
    "\n",
    "print(s1,type(s1))\n",
    "print(s2,type(s2))\n",
    "print(s3,type(s3))\n",
    "print(s4,type(s4))"
   ]
  },
  {
   "cell_type": "code",
   "execution_count": 29,
   "id": "e18c5ae9",
   "metadata": {},
   "outputs": [
    {
     "ename": "SyntaxError",
     "evalue": "unterminated string literal (detected at line 1) (105003382.py, line 1)",
     "output_type": "error",
     "traceback": [
      "\u001b[1;36m  Cell \u001b[1;32mIn[29], line 1\u001b[1;36m\u001b[0m\n\u001b[1;33m    s = \"My name is Python\u001b[0m\n\u001b[1;37m        ^\u001b[0m\n\u001b[1;31mSyntaxError\u001b[0m\u001b[1;31m:\u001b[0m unterminated string literal (detected at line 1)\n"
     ]
    }
   ],
   "source": [
    "s = \"My name is Python \n",
    "and I am a programming Language\""
   ]
  },
  {
   "cell_type": "code",
   "execution_count": 30,
   "id": "59de44c1",
   "metadata": {},
   "outputs": [],
   "source": [
    "letter = \"\"\"\n",
    "To,\n",
    "The HOD,\n",
    "CSE\n",
    "ARYA COLLEGE\n",
    "KUKAS\n",
    "\n",
    "    Subject:- ..............................................\n",
    "    \n",
    "Respected Sir,\n",
    "    ...............................................\n",
    "    ..................................................\n",
    "    ...........................................\n",
    "    ...........................................\n",
    "    ..................................................\n",
    "    ...............................\n",
    "    \n",
    "Yours Sincerely,\n",
    "XYZ\"\"\""
   ]
  },
  {
   "cell_type": "code",
   "execution_count": 31,
   "id": "e17eceb4",
   "metadata": {},
   "outputs": [
    {
     "name": "stdout",
     "output_type": "stream",
     "text": [
      "\n",
      "To,\n",
      "The HOD,\n",
      "CSE\n",
      "ARYA COLLEGE\n",
      "KUKAS\n",
      "\n",
      "    Subject:- ..............................................\n",
      "    \n",
      "Respected Sir,\n",
      "    ...............................................\n",
      "    ..................................................\n",
      "    ...........................................\n",
      "    ...........................................\n",
      "    ..................................................\n",
      "    ...............................\n",
      "    \n",
      "Yours Sincerely,\n",
      "XYZ\n"
     ]
    }
   ],
   "source": [
    "print(letter)"
   ]
  },
  {
   "cell_type": "markdown",
   "id": "405545f3",
   "metadata": {},
   "source": [
    "# Escape Character"
   ]
  },
  {
   "cell_type": "code",
   "execution_count": 34,
   "id": "47a9933f",
   "metadata": {},
   "outputs": [
    {
     "name": "stdout",
     "output_type": "stream",
     "text": [
      "He said,\"I am a bad boy\"\n"
     ]
    }
   ],
   "source": [
    "s = \"He said,\\\"I am a bad boy\\\"\"\n",
    "print(s)"
   ]
  },
  {
   "cell_type": "code",
   "execution_count": 35,
   "id": "bb859cec",
   "metadata": {},
   "outputs": [
    {
     "name": "stdout",
     "output_type": "stream",
     "text": [
      "ALL IZ\n",
      " WELL\n"
     ]
    }
   ],
   "source": [
    "print(\"ALL IZ\\n WELL\")"
   ]
  },
  {
   "cell_type": "code",
   "execution_count": 38,
   "id": "ab4671f1",
   "metadata": {},
   "outputs": [
    {
     "name": "stdout",
     "output_type": "stream",
     "text": [
      "ALL IZ\t\tNOT WELL\n"
     ]
    }
   ],
   "source": [
    "print(\"ALL IZ\\t\\tNOT WELL\")"
   ]
  },
  {
   "cell_type": "code",
   "execution_count": 41,
   "id": "6df6bcab",
   "metadata": {},
   "outputs": [
    {
     "name": "stdout",
     "output_type": "stream",
     "text": [
      "f:\\technology\\newfolder\n"
     ]
    }
   ],
   "source": [
    "print(\"f:\\\\technology\\\\newfolder\")"
   ]
  },
  {
   "cell_type": "code",
   "execution_count": 43,
   "id": "fd17244f",
   "metadata": {},
   "outputs": [
    {
     "name": "stdout",
     "output_type": "stream",
     "text": [
      "f:\\technology\\newfolder\n"
     ]
    }
   ],
   "source": [
    "print(r\"f:\\technology\\newfolder\")"
   ]
  },
  {
   "cell_type": "code",
   "execution_count": 47,
   "id": "23111d56",
   "metadata": {},
   "outputs": [
    {
     "name": "stdout",
     "output_type": "stream",
     "text": [
      "Python is Awesome \r",
      "123\n"
     ]
    }
   ],
   "source": [
    "print(\"Python is Awesome \\r123\")"
   ]
  },
  {
   "cell_type": "markdown",
   "id": "ad71344a",
   "metadata": {},
   "source": [
    "### Properties of String"
   ]
  },
  {
   "cell_type": "markdown",
   "id": "48915745",
   "metadata": {},
   "source": [
    "- Sequential\n",
    "- Ordered\n",
    "- Immutable"
   ]
  },
  {
   "cell_type": "code",
   "execution_count": 49,
   "id": "fd633e0a",
   "metadata": {},
   "outputs": [],
   "source": [
    "#indexing"
   ]
  },
  {
   "cell_type": "code",
   "execution_count": 54,
   "id": "af4c8abc",
   "metadata": {},
   "outputs": [
    {
     "name": "stdout",
     "output_type": "stream",
     "text": [
      "H\n",
      "o\n",
      "o\n",
      "'W'\n",
      "' '\n"
     ]
    }
   ],
   "source": [
    "s = \"Hello World!\"\n",
    "print(s[0])\n",
    "print(s[-5])\n",
    "print(s[4])\n",
    "print(repr(s[6]))\n",
    "print(repr(s[-7]))"
   ]
  },
  {
   "cell_type": "code",
   "execution_count": 55,
   "id": "9bf6c137",
   "metadata": {},
   "outputs": [],
   "source": [
    "#SLICING"
   ]
  },
  {
   "cell_type": "code",
   "execution_count": 57,
   "id": "ac8497e3",
   "metadata": {},
   "outputs": [],
   "source": [
    "#print(s[start:stop:step])"
   ]
  },
  {
   "cell_type": "code",
   "execution_count": 58,
   "id": "f17bb878",
   "metadata": {},
   "outputs": [
    {
     "name": "stdout",
     "output_type": "stream",
     "text": [
      "Hello\n"
     ]
    }
   ],
   "source": [
    "print(s[0:5])"
   ]
  },
  {
   "cell_type": "code",
   "execution_count": 61,
   "id": "afd8346c",
   "metadata": {},
   "outputs": [
    {
     "name": "stdout",
     "output_type": "stream",
     "text": [
      "World!\n"
     ]
    }
   ],
   "source": [
    "print(s[6:])"
   ]
  },
  {
   "cell_type": "code",
   "execution_count": 62,
   "id": "5b00a7d0",
   "metadata": {},
   "outputs": [
    {
     "name": "stdout",
     "output_type": "stream",
     "text": [
      "Hello W\n"
     ]
    }
   ],
   "source": [
    "print(s[:-5])"
   ]
  },
  {
   "cell_type": "code",
   "execution_count": 63,
   "id": "e97135c2",
   "metadata": {},
   "outputs": [
    {
     "name": "stdout",
     "output_type": "stream",
     "text": [
      " World!\n"
     ]
    }
   ],
   "source": [
    "print(s[-7:])"
   ]
  },
  {
   "cell_type": "code",
   "execution_count": 64,
   "id": "40583f6e",
   "metadata": {},
   "outputs": [
    {
     "name": "stdout",
     "output_type": "stream",
     "text": [
      "ello W\n"
     ]
    }
   ],
   "source": [
    "print(s[-11:7])"
   ]
  },
  {
   "cell_type": "code",
   "execution_count": 66,
   "id": "d3550b90",
   "metadata": {},
   "outputs": [
    {
     "name": "stdout",
     "output_type": "stream",
     "text": [
      "HloWrd\n"
     ]
    }
   ],
   "source": [
    "print(s[::2])"
   ]
  },
  {
   "cell_type": "code",
   "execution_count": 67,
   "id": "808aba29",
   "metadata": {},
   "outputs": [
    {
     "name": "stdout",
     "output_type": "stream",
     "text": [
      "eood\n"
     ]
    }
   ],
   "source": [
    "print(s[1::3])"
   ]
  },
  {
   "cell_type": "code",
   "execution_count": 68,
   "id": "6e446b0f",
   "metadata": {},
   "outputs": [
    {
     "name": "stdout",
     "output_type": "stream",
     "text": [
      "loWr\n"
     ]
    }
   ],
   "source": [
    "print(s[2:-2:2])"
   ]
  },
  {
   "cell_type": "code",
   "execution_count": 69,
   "id": "747bd795",
   "metadata": {},
   "outputs": [
    {
     "name": "stdout",
     "output_type": "stream",
     "text": [
      "drWo\n"
     ]
    }
   ],
   "source": [
    "print(s[-2:2:-2])"
   ]
  },
  {
   "cell_type": "code",
   "execution_count": 70,
   "id": "8d253a72",
   "metadata": {},
   "outputs": [
    {
     "name": "stdout",
     "output_type": "stream",
     "text": [
      "!l\n"
     ]
    }
   ],
   "source": [
    "print(s[:-4:-2])"
   ]
  },
  {
   "cell_type": "code",
   "execution_count": 71,
   "id": "44df3abc",
   "metadata": {},
   "outputs": [
    {
     "name": "stdout",
     "output_type": "stream",
     "text": [
      "ooe\n"
     ]
    }
   ],
   "source": [
    "print(s[-5::-3])"
   ]
  },
  {
   "cell_type": "code",
   "execution_count": 1,
   "id": "443e61a8",
   "metadata": {},
   "outputs": [],
   "source": [
    "s = \"Hello World!\""
   ]
  },
  {
   "cell_type": "code",
   "execution_count": 2,
   "id": "8003886f",
   "metadata": {},
   "outputs": [
    {
     "name": "stdout",
     "output_type": "stream",
     "text": [
      "!ol\n"
     ]
    }
   ],
   "source": [
    "print(s[:-11:-4])"
   ]
  },
  {
   "cell_type": "code",
   "execution_count": 4,
   "id": "6d15533e",
   "metadata": {},
   "outputs": [
    {
     "name": "stdout",
     "output_type": "stream",
     "text": [
      "''\n"
     ]
    }
   ],
   "source": [
    "print(repr(s[3:-7:-5]))"
   ]
  },
  {
   "cell_type": "code",
   "execution_count": 9,
   "id": "9cca8880",
   "metadata": {},
   "outputs": [
    {
     "name": "stdout",
     "output_type": "stream",
     "text": [
      "Ravi 1494450548208\n"
     ]
    }
   ],
   "source": [
    "s = \"Ravi\"\n",
    "print(s,id(s))"
   ]
  },
  {
   "cell_type": "code",
   "execution_count": 8,
   "id": "da469405",
   "metadata": {},
   "outputs": [
    {
     "name": "stdout",
     "output_type": "stream",
     "text": [
      "Kavi 1494446729584\n"
     ]
    }
   ],
   "source": [
    "s = s.replace('R','K')\n",
    "print(s,id(s))"
   ]
  },
  {
   "cell_type": "markdown",
   "id": "8a764746",
   "metadata": {},
   "source": [
    "### Methods of String"
   ]
  },
  {
   "cell_type": "code",
   "execution_count": 10,
   "id": "9c08f3b1",
   "metadata": {},
   "outputs": [
    {
     "name": "stdout",
     "output_type": "stream",
     "text": [
      "Hello World!\n"
     ]
    }
   ],
   "source": [
    "s = \"Hello World!\"\n",
    "print(s)"
   ]
  },
  {
   "cell_type": "code",
   "execution_count": 11,
   "id": "5d3fb797",
   "metadata": {},
   "outputs": [
    {
     "name": "stdout",
     "output_type": "stream",
     "text": [
      "['__add__', '__class__', '__contains__', '__delattr__', '__dir__', '__doc__', '__eq__', '__format__', '__ge__', '__getattribute__', '__getitem__', '__getnewargs__', '__getstate__', '__gt__', '__hash__', '__init__', '__init_subclass__', '__iter__', '__le__', '__len__', '__lt__', '__mod__', '__mul__', '__ne__', '__new__', '__reduce__', '__reduce_ex__', '__repr__', '__rmod__', '__rmul__', '__setattr__', '__sizeof__', '__str__', '__subclasshook__', 'capitalize', 'casefold', 'center', 'count', 'encode', 'endswith', 'expandtabs', 'find', 'format', 'format_map', 'index', 'isalnum', 'isalpha', 'isascii', 'isdecimal', 'isdigit', 'isidentifier', 'islower', 'isnumeric', 'isprintable', 'isspace', 'istitle', 'isupper', 'join', 'ljust', 'lower', 'lstrip', 'maketrans', 'partition', 'removeprefix', 'removesuffix', 'replace', 'rfind', 'rindex', 'rjust', 'rpartition', 'rsplit', 'rstrip', 'split', 'splitlines', 'startswith', 'strip', 'swapcase', 'title', 'translate', 'upper', 'zfill']\n"
     ]
    }
   ],
   "source": [
    "print(dir(s))"
   ]
  },
  {
   "cell_type": "code",
   "execution_count": 12,
   "id": "597f4785",
   "metadata": {},
   "outputs": [],
   "source": [
    "#__add__ --> magic methods or special methods or dundder methods"
   ]
  },
  {
   "cell_type": "code",
   "execution_count": 15,
   "id": "eda75ae0",
   "metadata": {},
   "outputs": [
    {
     "name": "stdout",
     "output_type": "stream",
     "text": [
      "15\n"
     ]
    }
   ],
   "source": [
    "a = 6\n",
    "b = 9\n",
    "#print(a+b)\n",
    "print(a.__add__(b))"
   ]
  },
  {
   "cell_type": "code",
   "execution_count": 16,
   "id": "0e1f7b42",
   "metadata": {},
   "outputs": [
    {
     "name": "stdout",
     "output_type": "stream",
     "text": [
      "89\n"
     ]
    }
   ],
   "source": [
    "c = '8'\n",
    "d = '9'\n",
    "#print(c+d)\n",
    "print(c.__add__(d))"
   ]
  },
  {
   "cell_type": "code",
   "execution_count": 17,
   "id": "2263c44a",
   "metadata": {},
   "outputs": [
    {
     "name": "stdout",
     "output_type": "stream",
     "text": [
      "['__abs__', '__add__', '__and__', '__bool__', '__ceil__', '__class__', '__delattr__', '__dir__', '__divmod__', '__doc__', '__eq__', '__float__', '__floor__', '__floordiv__', '__format__', '__ge__', '__getattribute__', '__getnewargs__', '__getstate__', '__gt__', '__hash__', '__index__', '__init__', '__init_subclass__', '__int__', '__invert__', '__le__', '__lshift__', '__lt__', '__mod__', '__mul__', '__ne__', '__neg__', '__new__', '__or__', '__pos__', '__pow__', '__radd__', '__rand__', '__rdivmod__', '__reduce__', '__reduce_ex__', '__repr__', '__rfloordiv__', '__rlshift__', '__rmod__', '__rmul__', '__ror__', '__round__', '__rpow__', '__rrshift__', '__rshift__', '__rsub__', '__rtruediv__', '__rxor__', '__setattr__', '__sizeof__', '__str__', '__sub__', '__subclasshook__', '__truediv__', '__trunc__', '__xor__', 'as_integer_ratio', 'bit_count', 'bit_length', 'conjugate', 'denominator', 'from_bytes', 'imag', 'numerator', 'real', 'to_bytes']\n"
     ]
    }
   ],
   "source": [
    "print(dir(a))"
   ]
  },
  {
   "cell_type": "code",
   "execution_count": 18,
   "id": "74a85621",
   "metadata": {},
   "outputs": [],
   "source": [
    "s = \"                      ******************hEllO wOrLd!***************                  \""
   ]
  },
  {
   "cell_type": "code",
   "execution_count": 19,
   "id": "8507c911",
   "metadata": {},
   "outputs": [
    {
     "name": "stdout",
     "output_type": "stream",
     "text": [
      "                      ******************hEllO wOrLd!***************                  \n"
     ]
    }
   ],
   "source": [
    "print(s)"
   ]
  },
  {
   "cell_type": "code",
   "execution_count": 21,
   "id": "cd523683",
   "metadata": {},
   "outputs": [
    {
     "name": "stdout",
     "output_type": "stream",
     "text": [
      "                      ******************HELLO WORLD!***************                  \n"
     ]
    }
   ],
   "source": [
    "print(s.upper())"
   ]
  },
  {
   "cell_type": "code",
   "execution_count": 22,
   "id": "199bb6a7",
   "metadata": {},
   "outputs": [
    {
     "name": "stdout",
     "output_type": "stream",
     "text": [
      "                      ******************hello world!***************                  \n"
     ]
    }
   ],
   "source": [
    "print(s.lower())"
   ]
  },
  {
   "cell_type": "code",
   "execution_count": 23,
   "id": "bb37016b",
   "metadata": {},
   "outputs": [
    {
     "name": "stdout",
     "output_type": "stream",
     "text": [
      "                      ******************Hello World!***************                  \n"
     ]
    }
   ],
   "source": [
    "print(s.title())"
   ]
  },
  {
   "cell_type": "code",
   "execution_count": 25,
   "id": "cc6f1f55",
   "metadata": {},
   "outputs": [
    {
     "name": "stdout",
     "output_type": "stream",
     "text": [
      "                      ******************hEllO wOrLd!***************                  \n",
      "                      ******************HeLLo WoRlD!***************                  \n"
     ]
    }
   ],
   "source": [
    "print(s)\n",
    "print(s.swapcase())"
   ]
  },
  {
   "cell_type": "code",
   "execution_count": 28,
   "id": "c8d6b013",
   "metadata": {},
   "outputs": [
    {
     "name": "stdout",
     "output_type": "stream",
     "text": [
      "Hello World!\n"
     ]
    }
   ],
   "source": [
    "print(s.strip().strip('*').title())"
   ]
  },
  {
   "cell_type": "code",
   "execution_count": 29,
   "id": "fea43562",
   "metadata": {},
   "outputs": [
    {
     "data": {
      "text/plain": [
       "2"
      ]
     },
     "execution_count": 29,
     "metadata": {},
     "output_type": "execute_result"
    }
   ],
   "source": [
    "s.count('l')"
   ]
  },
  {
   "cell_type": "code",
   "execution_count": 30,
   "id": "ff48a1f3",
   "metadata": {},
   "outputs": [
    {
     "name": "stdout",
     "output_type": "stream",
     "text": [
      "                      ******************hEllO wOrLd!***************                  \n"
     ]
    }
   ],
   "source": [
    "print(s)"
   ]
  },
  {
   "cell_type": "code",
   "execution_count": 31,
   "id": "9314ff1c",
   "metadata": {},
   "outputs": [
    {
     "data": {
      "text/plain": [
       "49"
      ]
     },
     "execution_count": 31,
     "metadata": {},
     "output_type": "execute_result"
    }
   ],
   "source": [
    "s.index('L')"
   ]
  },
  {
   "cell_type": "code",
   "execution_count": 32,
   "id": "9f7b5c82",
   "metadata": {},
   "outputs": [
    {
     "data": {
      "text/plain": [
       "42"
      ]
     },
     "execution_count": 32,
     "metadata": {},
     "output_type": "execute_result"
    }
   ],
   "source": [
    "s.index('l')"
   ]
  },
  {
   "cell_type": "code",
   "execution_count": 33,
   "id": "18412719",
   "metadata": {},
   "outputs": [
    {
     "data": {
      "text/plain": [
       "43"
      ]
     },
     "execution_count": 33,
     "metadata": {},
     "output_type": "execute_result"
    }
   ],
   "source": [
    "s.rindex('l')"
   ]
  },
  {
   "cell_type": "code",
   "execution_count": 35,
   "id": "a30294c0",
   "metadata": {},
   "outputs": [
    {
     "name": "stdout",
     "output_type": "stream",
     "text": [
      "-1\n"
     ]
    },
    {
     "ename": "ValueError",
     "evalue": "substring not found",
     "output_type": "error",
     "traceback": [
      "\u001b[1;31m---------------------------------------------------------------------------\u001b[0m",
      "\u001b[1;31mValueError\u001b[0m                                Traceback (most recent call last)",
      "Cell \u001b[1;32mIn[35], line 2\u001b[0m\n\u001b[0;32m      1\u001b[0m \u001b[38;5;28mprint\u001b[39m(s\u001b[38;5;241m.\u001b[39mfind(\u001b[38;5;124m'\u001b[39m\u001b[38;5;124mz\u001b[39m\u001b[38;5;124m'\u001b[39m))\n\u001b[1;32m----> 2\u001b[0m \u001b[38;5;28mprint\u001b[39m(s\u001b[38;5;241m.\u001b[39mindex(\u001b[38;5;124m'\u001b[39m\u001b[38;5;124mz\u001b[39m\u001b[38;5;124m'\u001b[39m))\n",
      "\u001b[1;31mValueError\u001b[0m: substring not found"
     ]
    }
   ],
   "source": [
    "print(s.find('z'))\n",
    "print(s.index('z'))"
   ]
  },
  {
   "cell_type": "code",
   "execution_count": 38,
   "id": "e0f8dcaf",
   "metadata": {},
   "outputs": [],
   "source": [
    "s1 = \"Ravi Ramawat\""
   ]
  },
  {
   "cell_type": "code",
   "execution_count": 41,
   "id": "d8b6164a",
   "metadata": {},
   "outputs": [
    {
     "name": "stdout",
     "output_type": "stream",
     "text": [
      "*******************************************Ravi Ramawat******************************************\n"
     ]
    }
   ],
   "source": [
    "print(s1.center(97,'*'))"
   ]
  },
  {
   "cell_type": "code",
   "execution_count": 42,
   "id": "89b9704c",
   "metadata": {},
   "outputs": [
    {
     "name": "stdout",
     "output_type": "stream",
     "text": [
      "Ravi Ramawat*************************************************************************************\n"
     ]
    }
   ],
   "source": [
    "print(s1.ljust(97,'*'))"
   ]
  },
  {
   "cell_type": "code",
   "execution_count": 43,
   "id": "0dead00f",
   "metadata": {},
   "outputs": [
    {
     "name": "stdout",
     "output_type": "stream",
     "text": [
      "*************************************************************************************Ravi Ramawat\n"
     ]
    }
   ],
   "source": [
    "print(s1.rjust(97,'*'))"
   ]
  },
  {
   "cell_type": "code",
   "execution_count": 44,
   "id": "13ad6822",
   "metadata": {},
   "outputs": [],
   "source": [
    "#Split\n",
    "#join\n",
    "#format"
   ]
  },
  {
   "cell_type": "markdown",
   "id": "ed313400",
   "metadata": {},
   "source": [
    "### Split"
   ]
  },
  {
   "cell_type": "code",
   "execution_count": 45,
   "id": "e04b6c8f",
   "metadata": {},
   "outputs": [],
   "source": [
    "s = \"Hello My name is Python\""
   ]
  },
  {
   "cell_type": "code",
   "execution_count": 47,
   "id": "7aca6026",
   "metadata": {},
   "outputs": [
    {
     "name": "stdout",
     "output_type": "stream",
     "text": [
      "['Hello', 'My', 'name', 'is', 'Python']\n"
     ]
    }
   ],
   "source": [
    "l = s.split()\n",
    "print(l)"
   ]
  },
  {
   "cell_type": "code",
   "execution_count": 48,
   "id": "c4b63588",
   "metadata": {},
   "outputs": [
    {
     "data": {
      "text/plain": [
       "['Hello My na', 'e is Python']"
      ]
     },
     "execution_count": 48,
     "metadata": {},
     "output_type": "execute_result"
    }
   ],
   "source": [
    "s.split('m')"
   ]
  },
  {
   "cell_type": "markdown",
   "id": "5f2c4fe1",
   "metadata": {},
   "source": [
    "#### Join"
   ]
  },
  {
   "cell_type": "code",
   "execution_count": 53,
   "id": "0d9a9803",
   "metadata": {},
   "outputs": [
    {
     "name": "stdout",
     "output_type": "stream",
     "text": [
      "Hello\tMy\tname\tis\tPython\n"
     ]
    }
   ],
   "source": [
    "s3 = \"\\t\" #joining string\n",
    "print(s3.join(['Hello', 'My', 'name', 'is', 'Python']))"
   ]
  },
  {
   "cell_type": "code",
   "execution_count": 56,
   "id": "166bbb4f",
   "metadata": {},
   "outputs": [
    {
     "data": {
      "text/plain": [
       "'Hello My na77e is Python'"
      ]
     },
     "execution_count": 56,
     "metadata": {},
     "output_type": "execute_result"
    }
   ],
   "source": [
    "\"77\".join(['Hello My na', 'e is Python'])"
   ]
  },
  {
   "cell_type": "code",
   "execution_count": 58,
   "id": "e0682b81",
   "metadata": {},
   "outputs": [
    {
     "name": "stdout",
     "output_type": "stream",
     "text": [
      "Enter the value of a -->4\n",
      "Enter the value of b -->8\n",
      "8 is Greater\n"
     ]
    }
   ],
   "source": [
    "a = int(input(\"Enter the value of a -->\"))\n",
    "b = int(input(\"Enter the value of b -->\"))\n",
    "if a>b:\n",
    "    print(f\"{a} is Greater\")\n",
    "else:\n",
    "    print(f\"{b} is Greater\")"
   ]
  },
  {
   "cell_type": "code",
   "execution_count": 72,
   "id": "571260d3",
   "metadata": {},
   "outputs": [
    {
     "name": "stdout",
     "output_type": "stream",
     "text": [
      "1         1         1         1         1         \n",
      "2         10        2         2         2         \n",
      "3         11        3         3         3         \n",
      "4         100       4         4         4         \n",
      "5         101       5         5         5         \n",
      "6         110       6         6         6         \n",
      "7         111       7         7         7         \n",
      "8         1000      10        8         8         \n",
      "9         1001      11        9         9         \n",
      "10        1010      12        a         A         \n",
      "11        1011      13        b         B         \n",
      "12        1100      14        c         C         \n",
      "13        1101      15        d         D         \n",
      "14        1110      16        e         E         \n",
      "15        1111      17        f         F         \n",
      "16        10000     20        10        10        \n",
      "17        10001     21        11        11        \n",
      "18        10010     22        12        12        \n",
      "19        10011     23        13        13        \n",
      "20        10100     24        14        14        \n",
      "21        10101     25        15        15        \n",
      "22        10110     26        16        16        \n",
      "23        10111     27        17        17        \n",
      "24        11000     30        18        18        \n",
      "25        11001     31        19        19        \n",
      "26        11010     32        1a        1A        \n",
      "27        11011     33        1b        1B        \n",
      "28        11100     34        1c        1C        \n",
      "29        11101     35        1d        1D        \n",
      "30        11110     36        1e        1E        \n",
      "31        11111     37        1f        1F        \n",
      "32        100000    40        20        20        \n",
      "33        100001    41        21        21        \n",
      "34        100010    42        22        22        \n",
      "35        100011    43        23        23        \n",
      "36        100100    44        24        24        \n",
      "37        100101    45        25        25        \n",
      "38        100110    46        26        26        \n",
      "39        100111    47        27        27        \n",
      "40        101000    50        28        28        \n",
      "41        101001    51        29        29        \n",
      "42        101010    52        2a        2A        \n",
      "43        101011    53        2b        2B        \n",
      "44        101100    54        2c        2C        \n",
      "45        101101    55        2d        2D        \n",
      "46        101110    56        2e        2E        \n",
      "47        101111    57        2f        2F        \n",
      "48        110000    60        30        30        \n",
      "49        110001    61        31        31        \n",
      "50        110010    62        32        32        \n"
     ]
    }
   ],
   "source": [
    "for var in range(1,51):\n",
    "    print(f\"{var:<10}{var:<10b}{var:<10o}{var:<10x}{var:<10X}\")"
   ]
  },
  {
   "cell_type": "markdown",
   "id": "a54f3924",
   "metadata": {},
   "source": [
    "# List"
   ]
  },
  {
   "cell_type": "code",
   "execution_count": 1,
   "id": "7824e1f5",
   "metadata": {},
   "outputs": [
    {
     "name": "stdout",
     "output_type": "stream",
     "text": [
      "[] <class 'list'>\n"
     ]
    }
   ],
   "source": [
    "l = [] #Empty list\n",
    "print(l,type(l))"
   ]
  },
  {
   "cell_type": "markdown",
   "id": "aafd3d91",
   "metadata": {},
   "source": [
    "It is a collection of elements having same or different datatypes"
   ]
  },
  {
   "cell_type": "code",
   "execution_count": 6,
   "id": "eff8bf80",
   "metadata": {},
   "outputs": [
    {
     "name": "stdout",
     "output_type": "stream",
     "text": [
      "[1234, 13, 4, 324, 13, 452, 35, 234, 5, 324, 5324, 5] <class 'list'>\n",
      "[12.21, 31221.12, 312, 'Ravi'] <class 'list'>\n"
     ]
    }
   ],
   "source": [
    "l = [1234,13,4,324,13,452,35,234,5,324,5324,5] #Homogenous\n",
    "l1 = [12.21,31221.12,312,\"Ravi\"] #Heterogenous\n",
    "print(l,type(l))\n",
    "print(l1,type(l1))"
   ]
  },
  {
   "cell_type": "markdown",
   "id": "47de80cf",
   "metadata": {},
   "source": [
    "- Sequential (indexing and slicing)\n",
    "- Ordered\n",
    "- Mutable"
   ]
  },
  {
   "cell_type": "code",
   "execution_count": 7,
   "id": "9bf298da",
   "metadata": {},
   "outputs": [
    {
     "name": "stdout",
     "output_type": "stream",
     "text": [
      "[1234, 13, 4, 324, 13, 452, 35, 234, 5, 324, 5324, 5]\n",
      "['Ravi', 13, 4, 324, 13, 452, 35, 234, 5, 324, 5324, 5]\n"
     ]
    }
   ],
   "source": [
    "print(l)\n",
    "l[0] = \"Ravi\"\n",
    "print(l)"
   ]
  },
  {
   "cell_type": "code",
   "execution_count": 8,
   "id": "adb93412",
   "metadata": {},
   "outputs": [
    {
     "name": "stdout",
     "output_type": "stream",
     "text": [
      "['__add__', '__class__', '__class_getitem__', '__contains__', '__delattr__', '__delitem__', '__dir__', '__doc__', '__eq__', '__format__', '__ge__', '__getattribute__', '__getitem__', '__getstate__', '__gt__', '__hash__', '__iadd__', '__imul__', '__init__', '__init_subclass__', '__iter__', '__le__', '__len__', '__lt__', '__mul__', '__ne__', '__new__', '__reduce__', '__reduce_ex__', '__repr__', '__reversed__', '__rmul__', '__setattr__', '__setitem__', '__sizeof__', '__str__', '__subclasshook__', 'append', 'clear', 'copy', 'count', 'extend', 'index', 'insert', 'pop', 'remove', 'reverse', 'sort']\n"
     ]
    }
   ],
   "source": [
    "print(dir(l))"
   ]
  },
  {
   "cell_type": "code",
   "execution_count": 9,
   "id": "6850855e",
   "metadata": {},
   "outputs": [
    {
     "ename": "TypeError",
     "evalue": "list.append() takes exactly one argument (2 given)",
     "output_type": "error",
     "traceback": [
      "\u001b[1;31m---------------------------------------------------------------------------\u001b[0m",
      "\u001b[1;31mTypeError\u001b[0m                                 Traceback (most recent call last)",
      "Cell \u001b[1;32mIn[9], line 2\u001b[0m\n\u001b[0;32m      1\u001b[0m l \u001b[38;5;241m=\u001b[39m [\u001b[38;5;241m1\u001b[39m,\u001b[38;5;241m2\u001b[39m,\u001b[38;5;241m3\u001b[39m,\u001b[38;5;241m4\u001b[39m,\u001b[38;5;241m5\u001b[39m]\n\u001b[1;32m----> 2\u001b[0m l\u001b[38;5;241m.\u001b[39mappend(\u001b[38;5;241m99\u001b[39m,\u001b[38;5;241m99\u001b[39m)\n",
      "\u001b[1;31mTypeError\u001b[0m: list.append() takes exactly one argument (2 given)"
     ]
    }
   ],
   "source": [
    "l = [1,2,3,4,5]\n",
    "l.append(99,99)"
   ]
  },
  {
   "cell_type": "code",
   "execution_count": 10,
   "id": "790b9b6f",
   "metadata": {},
   "outputs": [],
   "source": [
    "l = [1,2,3,4,5]\n",
    "l.append(99)"
   ]
  },
  {
   "cell_type": "code",
   "execution_count": 11,
   "id": "647f45d9",
   "metadata": {},
   "outputs": [
    {
     "name": "stdout",
     "output_type": "stream",
     "text": [
      "[1, 2, 3, 4, 5, 99]\n"
     ]
    }
   ],
   "source": [
    "print(l)"
   ]
  },
  {
   "cell_type": "code",
   "execution_count": 13,
   "id": "714bf138",
   "metadata": {},
   "outputs": [
    {
     "name": "stdout",
     "output_type": "stream",
     "text": [
      "RAVI\n"
     ]
    }
   ],
   "source": [
    "s = \"Ravi\"\n",
    "r = s.upper()\n",
    "print(r)"
   ]
  },
  {
   "cell_type": "code",
   "execution_count": 15,
   "id": "25d1123a",
   "metadata": {},
   "outputs": [
    {
     "name": "stdout",
     "output_type": "stream",
     "text": [
      "None\n"
     ]
    }
   ],
   "source": [
    "r = l1.append(\"Hello\")\n",
    "print(r)"
   ]
  },
  {
   "cell_type": "code",
   "execution_count": 19,
   "id": "013e902b",
   "metadata": {},
   "outputs": [],
   "source": [
    "l.extend(\"Ravi\")"
   ]
  },
  {
   "cell_type": "code",
   "execution_count": 20,
   "id": "2127a7fb",
   "metadata": {},
   "outputs": [
    {
     "name": "stdout",
     "output_type": "stream",
     "text": [
      "[1, 2, 3, 4, 5, 99, 'R', 'a', 'v', 'i']\n"
     ]
    }
   ],
   "source": [
    "print(l)"
   ]
  },
  {
   "cell_type": "code",
   "execution_count": 21,
   "id": "986fd68b",
   "metadata": {},
   "outputs": [
    {
     "name": "stdout",
     "output_type": "stream",
     "text": [
      "[1, 2, 3, 4, 5, 99, 'R', 'a', 'v', 'i', 5, 6]\n"
     ]
    }
   ],
   "source": [
    "l.extend([5,6])\n",
    "print(l)"
   ]
  },
  {
   "cell_type": "code",
   "execution_count": 23,
   "id": "55831573",
   "metadata": {},
   "outputs": [],
   "source": [
    "l.append([9,8,7])"
   ]
  },
  {
   "cell_type": "code",
   "execution_count": 24,
   "id": "1571397e",
   "metadata": {},
   "outputs": [
    {
     "name": "stdout",
     "output_type": "stream",
     "text": [
      "[1, 2, 3, 4, 5, 99, 'R', 'a', 'v', 'i', 5, 6, [9, 8, 7]]\n"
     ]
    }
   ],
   "source": [
    "print(l)"
   ]
  },
  {
   "cell_type": "code",
   "execution_count": 28,
   "id": "e63d0579",
   "metadata": {},
   "outputs": [],
   "source": [
    "l1.clear()"
   ]
  },
  {
   "cell_type": "code",
   "execution_count": 29,
   "id": "59d90dd6",
   "metadata": {},
   "outputs": [
    {
     "name": "stdout",
     "output_type": "stream",
     "text": [
      "[]\n"
     ]
    }
   ],
   "source": [
    "print(l1)"
   ]
  },
  {
   "cell_type": "code",
   "execution_count": 35,
   "id": "a01ef56e",
   "metadata": {},
   "outputs": [
    {
     "name": "stdout",
     "output_type": "stream",
     "text": [
      "[1, 2, 3] 2113283048256\n",
      "[1, 2, 3] 2113283053760\n",
      "[1, 2, 3] 2113283048256\n"
     ]
    }
   ],
   "source": [
    "l1 = [1,2,3]\n",
    "l2 = [1,2,3]\n",
    "l3 = l1\n",
    "print(l1,id(l1))\n",
    "print(l2,id(l2))\n",
    "print(l3,id(l3))"
   ]
  },
  {
   "cell_type": "code",
   "execution_count": 33,
   "id": "9eed6051",
   "metadata": {},
   "outputs": [
    {
     "name": "stdout",
     "output_type": "stream",
     "text": [
      "2113281692816\n",
      "2113281692272\n"
     ]
    }
   ],
   "source": [
    "a = 257\n",
    "b = 257\n",
    "print(id(a))\n",
    "print(id(b))"
   ]
  },
  {
   "cell_type": "code",
   "execution_count": 34,
   "id": "150b9fa7",
   "metadata": {},
   "outputs": [
    {
     "name": "stdout",
     "output_type": "stream",
     "text": [
      "1 140708860957480\n",
      "1 140708860957480\n"
     ]
    }
   ],
   "source": [
    "print(l1[0],id(l1[0]))\n",
    "print(l2[0],id(l2[0]))"
   ]
  },
  {
   "cell_type": "code",
   "execution_count": 36,
   "id": "0fda63e9",
   "metadata": {},
   "outputs": [],
   "source": [
    "l1 = [1,2,3,4,5,6,7,8,9]\n",
    "l2 = [[1,2,3],[4,5,6],[7,8,9]]\n",
    "l3 = [[[1,2,3],[4,5,6]],[[7,8,9],[10,11,12]]]"
   ]
  },
  {
   "cell_type": "code",
   "execution_count": 37,
   "id": "78a0584a",
   "metadata": {},
   "outputs": [
    {
     "name": "stdout",
     "output_type": "stream",
     "text": [
      "[1, 2, 3, 4, 5, 6, 7, 8, 9]\n"
     ]
    }
   ],
   "source": [
    "print(l1)"
   ]
  },
  {
   "cell_type": "code",
   "execution_count": 38,
   "id": "01c78376",
   "metadata": {},
   "outputs": [
    {
     "name": "stdout",
     "output_type": "stream",
     "text": [
      "[[1, 2, 3], [4, 5, 6], [7, 8, 9]]\n"
     ]
    }
   ],
   "source": [
    "print(l2)"
   ]
  },
  {
   "cell_type": "code",
   "execution_count": 39,
   "id": "7329f3df",
   "metadata": {},
   "outputs": [
    {
     "name": "stdout",
     "output_type": "stream",
     "text": [
      "[[[1, 2, 3], [4, 5, 6]], [[7, 8, 9], [10, 11, 12]]]\n"
     ]
    }
   ],
   "source": [
    "print(l3)"
   ]
  },
  {
   "cell_type": "code",
   "execution_count": 45,
   "id": "bad10420",
   "metadata": {},
   "outputs": [
    {
     "name": "stdout",
     "output_type": "stream",
     "text": [
      "[[1, 2, 3], [4, 5, 6], [7, 8, 9]]\n",
      "9\n"
     ]
    }
   ],
   "source": [
    "print(l2)\n",
    "print(l2[2][::-1][0])"
   ]
  },
  {
   "cell_type": "code",
   "execution_count": 49,
   "id": "7863c3b9",
   "metadata": {},
   "outputs": [
    {
     "name": "stdout",
     "output_type": "stream",
     "text": [
      "[[[1, 2, 3], [4, 5, 6]], [[7, 8, 9], [10, 11, 12]]]\n",
      "11\n"
     ]
    }
   ],
   "source": [
    "print(l3)\n",
    "print(l3[1][1][1])"
   ]
  },
  {
   "cell_type": "markdown",
   "id": "3cbedb7b",
   "metadata": {},
   "source": [
    "# Shallow Copy "
   ]
  },
  {
   "cell_type": "code",
   "execution_count": 50,
   "id": "003f22c8",
   "metadata": {},
   "outputs": [
    {
     "name": "stdout",
     "output_type": "stream",
     "text": [
      "[1, 2, 3, [4, 5, 6]]\n",
      "[1, 2, 3, [4, 5, 6]]\n"
     ]
    }
   ],
   "source": [
    "from copy import copy,deepcopy\n",
    "l1 = [1,2,3,[4,5,6]]\n",
    "l2 = copy(l1)\n",
    "print(l1)\n",
    "print(l2)"
   ]
  },
  {
   "cell_type": "code",
   "execution_count": 51,
   "id": "50a0205c",
   "metadata": {},
   "outputs": [
    {
     "name": "stdout",
     "output_type": "stream",
     "text": [
      "[1, 2, 3, [4, 5, 6], 'Ravi']\n",
      "[1, 2, 3, [4, 5, 6]]\n"
     ]
    }
   ],
   "source": [
    "l1.append(\"Ravi\")\n",
    "print(l1)\n",
    "print(l2)"
   ]
  },
  {
   "cell_type": "code",
   "execution_count": 52,
   "id": "3f672ab1",
   "metadata": {},
   "outputs": [
    {
     "name": "stdout",
     "output_type": "stream",
     "text": [
      "[1, 2, 3, [4, 5, 6, 'Ramawat'], 'Ravi']\n",
      "[1, 2, 3, [4, 5, 6, 'Ramawat']]\n"
     ]
    }
   ],
   "source": [
    "l1[-2].append(\"Ramawat\")\n",
    "print(l1)\n",
    "print(l2)"
   ]
  },
  {
   "cell_type": "markdown",
   "id": "de34a1ca",
   "metadata": {},
   "source": [
    "### Deep Copy"
   ]
  },
  {
   "cell_type": "code",
   "execution_count": 53,
   "id": "25d4358c",
   "metadata": {},
   "outputs": [
    {
     "name": "stdout",
     "output_type": "stream",
     "text": [
      "[1, 2, 3, [4, 5, 6]]\n",
      "[1, 2, 3, [4, 5, 6]]\n"
     ]
    }
   ],
   "source": [
    "l1 = [1,2,3,[4,5,6]]\n",
    "l2 = deepcopy(l1)\n",
    "print(l1)\n",
    "print(l2)"
   ]
  },
  {
   "cell_type": "code",
   "execution_count": 54,
   "id": "f9e11df8",
   "metadata": {},
   "outputs": [
    {
     "name": "stdout",
     "output_type": "stream",
     "text": [
      "[1, 2, 3, [4, 5, 6], 'Ravi']\n",
      "[1, 2, 3, [4, 5, 6]]\n"
     ]
    }
   ],
   "source": [
    "l1.append(\"Ravi\")\n",
    "print(l1)\n",
    "print(l2)"
   ]
  },
  {
   "cell_type": "code",
   "execution_count": 55,
   "id": "d5594d92",
   "metadata": {},
   "outputs": [
    {
     "name": "stdout",
     "output_type": "stream",
     "text": [
      "[1, 2, 3, [4, 5, 6, 'Ramawat'], 'Ravi']\n",
      "[1, 2, 3, [4, 5, 6]]\n"
     ]
    }
   ],
   "source": [
    "l1[-2].append(\"Ramawat\")\n",
    "print(l1)\n",
    "print(l2)"
   ]
  },
  {
   "cell_type": "code",
   "execution_count": 57,
   "id": "d97578a4",
   "metadata": {},
   "outputs": [
    {
     "name": "stdout",
     "output_type": "stream",
     "text": [
      "[1, 2, 3, 4, 5, 99, 'R', 'a', 'v', 'i', 5, 6, [9, 8, 7]]\n"
     ]
    }
   ],
   "source": [
    "print(l)"
   ]
  },
  {
   "cell_type": "code",
   "execution_count": 58,
   "id": "70c091d6",
   "metadata": {},
   "outputs": [
    {
     "data": {
      "text/plain": [
       "2"
      ]
     },
     "execution_count": 58,
     "metadata": {},
     "output_type": "execute_result"
    }
   ],
   "source": [
    "l.count(5)"
   ]
  },
  {
   "cell_type": "code",
   "execution_count": 59,
   "id": "1ae1ebb3",
   "metadata": {},
   "outputs": [
    {
     "data": {
      "text/plain": [
       "8"
      ]
     },
     "execution_count": 59,
     "metadata": {},
     "output_type": "execute_result"
    }
   ],
   "source": [
    "l.index('v')"
   ]
  },
  {
   "cell_type": "code",
   "execution_count": 60,
   "id": "7187bc2c",
   "metadata": {},
   "outputs": [],
   "source": [
    "l.insert(5,444)"
   ]
  },
  {
   "cell_type": "code",
   "execution_count": 61,
   "id": "911434e4",
   "metadata": {},
   "outputs": [
    {
     "name": "stdout",
     "output_type": "stream",
     "text": [
      "[1, 2, 3, 4, 5, 444, 99, 'R', 'a', 'v', 'i', 5, 6, [9, 8, 7]]\n"
     ]
    }
   ],
   "source": [
    "print(l)"
   ]
  },
  {
   "cell_type": "code",
   "execution_count": 62,
   "id": "a8d4551d",
   "metadata": {},
   "outputs": [
    {
     "data": {
      "text/plain": [
       "[9, 8, 7]"
      ]
     },
     "execution_count": 62,
     "metadata": {},
     "output_type": "execute_result"
    }
   ],
   "source": [
    "l.pop()"
   ]
  },
  {
   "cell_type": "code",
   "execution_count": 63,
   "id": "fe8410ec",
   "metadata": {},
   "outputs": [
    {
     "name": "stdout",
     "output_type": "stream",
     "text": [
      "[1, 2, 3, 4, 5, 444, 99, 'R', 'a', 'v', 'i', 5, 6]\n"
     ]
    }
   ],
   "source": [
    "print(l)"
   ]
  },
  {
   "cell_type": "code",
   "execution_count": 64,
   "id": "3f6f68d2",
   "metadata": {},
   "outputs": [
    {
     "data": {
      "text/plain": [
       "444"
      ]
     },
     "execution_count": 64,
     "metadata": {},
     "output_type": "execute_result"
    }
   ],
   "source": [
    "l.pop(5)"
   ]
  },
  {
   "cell_type": "code",
   "execution_count": 65,
   "id": "4aa743ce",
   "metadata": {},
   "outputs": [
    {
     "name": "stdout",
     "output_type": "stream",
     "text": [
      "[1, 2, 3, 4, 5, 99, 'R', 'a', 'v', 'i', 5, 6]\n"
     ]
    }
   ],
   "source": [
    "print(l)"
   ]
  },
  {
   "cell_type": "code",
   "execution_count": 66,
   "id": "bc574a4c",
   "metadata": {},
   "outputs": [],
   "source": [
    "l.remove(6)"
   ]
  },
  {
   "cell_type": "code",
   "execution_count": 68,
   "id": "7189830a",
   "metadata": {},
   "outputs": [
    {
     "name": "stdout",
     "output_type": "stream",
     "text": [
      "[1, 2, 3, 4, 5, 99, 'R', 'a', 'v', 'i', 5]\n"
     ]
    }
   ],
   "source": [
    "print(l)"
   ]
  },
  {
   "cell_type": "code",
   "execution_count": 71,
   "id": "d992f363",
   "metadata": {},
   "outputs": [],
   "source": [
    "l.remove(5)"
   ]
  },
  {
   "cell_type": "code",
   "execution_count": 72,
   "id": "14ed63ea",
   "metadata": {},
   "outputs": [
    {
     "name": "stdout",
     "output_type": "stream",
     "text": [
      "[1, 2, 3, 4, 99, 'R', 'a', 'v', 'i']\n"
     ]
    }
   ],
   "source": [
    "print(l)"
   ]
  },
  {
   "cell_type": "code",
   "execution_count": 73,
   "id": "f30bf69f",
   "metadata": {},
   "outputs": [],
   "source": [
    "l.reverse()"
   ]
  },
  {
   "cell_type": "code",
   "execution_count": 74,
   "id": "942d26e1",
   "metadata": {},
   "outputs": [
    {
     "name": "stdout",
     "output_type": "stream",
     "text": [
      "['i', 'v', 'a', 'R', 99, 4, 3, 2, 1]\n"
     ]
    }
   ],
   "source": [
    "print(l)"
   ]
  },
  {
   "cell_type": "code",
   "execution_count": 75,
   "id": "99484fdd",
   "metadata": {},
   "outputs": [],
   "source": [
    "l1 = [2,34,423,5,34,746,764,5,345,34,5,3]\n",
    "l1.sort()"
   ]
  },
  {
   "cell_type": "code",
   "execution_count": 76,
   "id": "0136e06f",
   "metadata": {},
   "outputs": [
    {
     "name": "stdout",
     "output_type": "stream",
     "text": [
      "[2, 3, 5, 5, 5, 34, 34, 34, 345, 423, 746, 764]\n"
     ]
    }
   ],
   "source": [
    "print(l1)"
   ]
  },
  {
   "cell_type": "code",
   "execution_count": 78,
   "id": "7eb3d2de",
   "metadata": {},
   "outputs": [],
   "source": [
    "l1.sort(reverse=True)"
   ]
  },
  {
   "cell_type": "code",
   "execution_count": 79,
   "id": "068beeb1",
   "metadata": {},
   "outputs": [
    {
     "name": "stdout",
     "output_type": "stream",
     "text": [
      "[764, 746, 423, 345, 34, 34, 34, 5, 5, 5, 3, 2]\n"
     ]
    }
   ],
   "source": [
    "print(l1)"
   ]
  },
  {
   "cell_type": "code",
   "execution_count": 80,
   "id": "4396c1ed",
   "metadata": {},
   "outputs": [
    {
     "name": "stdout",
     "output_type": "stream",
     "text": [
      "['Simran', 'Zara', 'anjali', 'rahul', 'raj', 'veer']\n"
     ]
    }
   ],
   "source": [
    "l2 = [\"raj\",'Simran','veer','Zara','anjali','rahul']\n",
    "l2.sort()\n",
    "print(l2)"
   ]
  },
  {
   "cell_type": "code",
   "execution_count": 81,
   "id": "fd25d2ee",
   "metadata": {},
   "outputs": [
    {
     "name": "stdout",
     "output_type": "stream",
     "text": [
      "['raj', 'Zara', 'veer', 'rahul', 'Simran', 'anjali']\n"
     ]
    }
   ],
   "source": [
    "l2.sort(key=len)\n",
    "print(l2)"
   ]
  },
  {
   "cell_type": "markdown",
   "id": "bb28160a",
   "metadata": {},
   "source": [
    "### Tuples"
   ]
  },
  {
   "cell_type": "code",
   "execution_count": 82,
   "id": "093cce71",
   "metadata": {},
   "outputs": [
    {
     "name": "stdout",
     "output_type": "stream",
     "text": [
      "() <class 'tuple'>\n"
     ]
    }
   ],
   "source": [
    "t = ()\n",
    "print(t,type(t))"
   ]
  },
  {
   "cell_type": "code",
   "execution_count": 84,
   "id": "8c9be42b",
   "metadata": {},
   "outputs": [
    {
     "name": "stdout",
     "output_type": "stream",
     "text": [
      "(5,) <class 'tuple'>\n"
     ]
    }
   ],
   "source": [
    "t = (5,)\n",
    "print(t,type(t))"
   ]
  },
  {
   "cell_type": "markdown",
   "id": "dc70ebcc",
   "metadata": {},
   "source": [
    "1. Sequential\n",
    "2. Ordered\n",
    "3. Immutable"
   ]
  },
  {
   "cell_type": "code",
   "execution_count": 85,
   "id": "84e01605",
   "metadata": {},
   "outputs": [
    {
     "name": "stdout",
     "output_type": "stream",
     "text": [
      "(1, 24, 12, 4, 12, 4, 12, 412, 4) <class 'tuple'>\n"
     ]
    }
   ],
   "source": [
    "t = (1,24,12,4,12,4,12,412,4)\n",
    "print(t,type(t))"
   ]
  },
  {
   "cell_type": "markdown",
   "id": "3043f8de",
   "metadata": {},
   "source": [
    "# Dictionary"
   ]
  },
  {
   "cell_type": "code",
   "execution_count": 86,
   "id": "c6ea6141",
   "metadata": {},
   "outputs": [
    {
     "name": "stdout",
     "output_type": "stream",
     "text": [
      "{} <class 'dict'>\n"
     ]
    }
   ],
   "source": [
    "d = {}\n",
    "print(d,type(d))"
   ]
  },
  {
   "cell_type": "code",
   "execution_count": 87,
   "id": "4a54ca0f",
   "metadata": {},
   "outputs": [],
   "source": [
    "#key value pairs"
   ]
  },
  {
   "cell_type": "code",
   "execution_count": 2,
   "id": "e74674ce",
   "metadata": {},
   "outputs": [
    {
     "name": "stdout",
     "output_type": "stream",
     "text": [
      "{'Name': 'Python Programming', 'Purpose': ['OOPS', 'Functional', 'Scripting'], 'Developer': 'Guido Van Rossum', 'Frame-Works': ['Flask', 'Django', 'Pyramid'], 'Versions': [1, 2, 3]}\n"
     ]
    }
   ],
   "source": [
    "d1 = {'Name':'Python Programming',\n",
    "      'Purpose':['OOPS','Functional','Scripting'],\n",
    "      'Developer':'Guido Van Rossum',\n",
    "      'Frame-Works':['Flask','Django','Pyramid'],\n",
    "      'Versions':[1,2,3]}\n",
    "print(d1)"
   ]
  },
  {
   "cell_type": "code",
   "execution_count": 1,
   "id": "cdb7bf8d",
   "metadata": {},
   "outputs": [
    {
     "name": "stdout",
     "output_type": "stream",
     "text": [
      "{'a': 55, 'b': 22, 'c': 11, 'd': 33}\n"
     ]
    }
   ],
   "source": [
    "d2 = {'a':11,'b':22,'c':11,'d':33,'a':55}\n",
    "print(d2)"
   ]
  },
  {
   "cell_type": "markdown",
   "id": "a688b63b",
   "metadata": {},
   "source": [
    "- Unordered\n",
    "- Non-Sequential\n",
    "- Mutable"
   ]
  },
  {
   "cell_type": "code",
   "execution_count": 95,
   "id": "8fc4f620",
   "metadata": {},
   "outputs": [
    {
     "name": "stdout",
     "output_type": "stream",
     "text": [
      "55\n"
     ]
    }
   ],
   "source": [
    "print(d2['a'])"
   ]
  },
  {
   "cell_type": "code",
   "execution_count": 96,
   "id": "eee46185",
   "metadata": {},
   "outputs": [
    {
     "name": "stdout",
     "output_type": "stream",
     "text": [
      "{'a': 55, 'b': 77, 'c': 11, 'd': 33}\n"
     ]
    }
   ],
   "source": [
    "d2['b']=77\n",
    "print(d2)"
   ]
  },
  {
   "cell_type": "code",
   "execution_count": 97,
   "id": "5e643973",
   "metadata": {},
   "outputs": [
    {
     "name": "stdout",
     "output_type": "stream",
     "text": [
      "['__class__', '__class_getitem__', '__contains__', '__delattr__', '__delitem__', '__dir__', '__doc__', '__eq__', '__format__', '__ge__', '__getattribute__', '__getitem__', '__getstate__', '__gt__', '__hash__', '__init__', '__init_subclass__', '__ior__', '__iter__', '__le__', '__len__', '__lt__', '__ne__', '__new__', '__or__', '__reduce__', '__reduce_ex__', '__repr__', '__reversed__', '__ror__', '__setattr__', '__setitem__', '__sizeof__', '__str__', '__subclasshook__', 'clear', 'copy', 'fromkeys', 'get', 'items', 'keys', 'pop', 'popitem', 'setdefault', 'update', 'values']\n"
     ]
    }
   ],
   "source": [
    "print(dir(d))"
   ]
  },
  {
   "cell_type": "code",
   "execution_count": 8,
   "id": "69fc18e8",
   "metadata": {},
   "outputs": [
    {
     "name": "stdout",
     "output_type": "stream",
     "text": [
      "Python Programming\n",
      "[1, 2, 3]\n",
      "['Flask', 'Django', 'Pyramid']\n",
      "Guido Van Rossum\n"
     ]
    }
   ],
   "source": [
    "print(d1['Name'])\n",
    "print(d1['Versions'])\n",
    "print(d1['Frame-Works'])\n",
    "print(d1['Developer'])"
   ]
  },
  {
   "cell_type": "code",
   "execution_count": 11,
   "id": "2fc652aa",
   "metadata": {},
   "outputs": [
    {
     "name": "stdout",
     "output_type": "stream",
     "text": [
      "{'Hello': 0, 'Hi': 0, 'Bye': 0}\n"
     ]
    }
   ],
   "source": [
    "f = {}\n",
    "f = f.fromkeys([\"Hello\",\"Hi\",\"Bye\",\"Bye\"],0)\n",
    "print(f)"
   ]
  },
  {
   "cell_type": "code",
   "execution_count": 12,
   "id": "1e5a8eb6",
   "metadata": {},
   "outputs": [
    {
     "data": {
      "text/plain": [
       "'Python Programming'"
      ]
     },
     "execution_count": 12,
     "metadata": {},
     "output_type": "execute_result"
    }
   ],
   "source": [
    "d1.get('Name')"
   ]
  },
  {
   "cell_type": "code",
   "execution_count": 13,
   "id": "99147cd6",
   "metadata": {},
   "outputs": [],
   "source": [
    "d1.get(\"Hello\")"
   ]
  },
  {
   "cell_type": "code",
   "execution_count": 14,
   "id": "1f96cbb8",
   "metadata": {},
   "outputs": [
    {
     "data": {
      "text/plain": [
       "dict_keys(['a', 'b', 'c', 'd'])"
      ]
     },
     "execution_count": 14,
     "metadata": {},
     "output_type": "execute_result"
    }
   ],
   "source": [
    "d2.keys()"
   ]
  },
  {
   "cell_type": "code",
   "execution_count": 15,
   "id": "38fc305c",
   "metadata": {},
   "outputs": [
    {
     "data": {
      "text/plain": [
       "dict_values([55, 22, 11, 33])"
      ]
     },
     "execution_count": 15,
     "metadata": {},
     "output_type": "execute_result"
    }
   ],
   "source": [
    "d2.values()"
   ]
  },
  {
   "cell_type": "code",
   "execution_count": 16,
   "id": "d6522569",
   "metadata": {},
   "outputs": [
    {
     "data": {
      "text/plain": [
       "dict_items([('a', 55), ('b', 22), ('c', 11), ('d', 33)])"
      ]
     },
     "execution_count": 16,
     "metadata": {},
     "output_type": "execute_result"
    }
   ],
   "source": [
    "d2.items()"
   ]
  },
  {
   "cell_type": "code",
   "execution_count": 18,
   "id": "62491581",
   "metadata": {},
   "outputs": [
    {
     "data": {
      "text/plain": [
       "11"
      ]
     },
     "execution_count": 18,
     "metadata": {},
     "output_type": "execute_result"
    }
   ],
   "source": [
    "d2.pop('c')"
   ]
  },
  {
   "cell_type": "code",
   "execution_count": 19,
   "id": "c7d252bf",
   "metadata": {},
   "outputs": [
    {
     "name": "stdout",
     "output_type": "stream",
     "text": [
      "{'a': 55, 'b': 22, 'd': 33}\n"
     ]
    }
   ],
   "source": [
    "print(d2)"
   ]
  },
  {
   "cell_type": "code",
   "execution_count": 20,
   "id": "02509363",
   "metadata": {},
   "outputs": [
    {
     "data": {
      "text/plain": [
       "('d', 33)"
      ]
     },
     "execution_count": 20,
     "metadata": {},
     "output_type": "execute_result"
    }
   ],
   "source": [
    "d2.popitem()"
   ]
  },
  {
   "cell_type": "code",
   "execution_count": 22,
   "id": "7ff30814",
   "metadata": {},
   "outputs": [
    {
     "data": {
      "text/plain": [
       "77"
      ]
     },
     "execution_count": 22,
     "metadata": {},
     "output_type": "execute_result"
    }
   ],
   "source": [
    "d2.setdefault('c',77)"
   ]
  },
  {
   "cell_type": "code",
   "execution_count": 23,
   "id": "14796a07",
   "metadata": {},
   "outputs": [
    {
     "name": "stdout",
     "output_type": "stream",
     "text": [
      "{'a': 55, 'b': 22, 'c': 77}\n"
     ]
    }
   ],
   "source": [
    "print(d2)"
   ]
  },
  {
   "cell_type": "code",
   "execution_count": 25,
   "id": "ebb565e7",
   "metadata": {},
   "outputs": [],
   "source": [
    "d2.update([('a',11),('b',22),('c',33),('d',44)])"
   ]
  },
  {
   "cell_type": "code",
   "execution_count": 26,
   "id": "be50d71b",
   "metadata": {},
   "outputs": [
    {
     "name": "stdout",
     "output_type": "stream",
     "text": [
      "{'a': 11, 'b': 22, 'c': 33, 'd': 44}\n"
     ]
    }
   ],
   "source": [
    "print(d2)"
   ]
  },
  {
   "cell_type": "code",
   "execution_count": 27,
   "id": "2c00da42",
   "metadata": {},
   "outputs": [],
   "source": [
    "d5 = {'Grras':{'AWS':{'Trainers':['Rajat','Sunil','Kapil']},'Python':{'Trainers':['Simran','Deep','Gaurav']},'DS_ML':{'Trainers':['Sachin','Simran','Deep']},'DA':{'Trainers':['Vikash','Piyush','Akshita']},'Java':{'Trainers':['Ashwani','Vikas','Chandan']}}}"
   ]
  },
  {
   "cell_type": "code",
   "execution_count": 28,
   "id": "508aba97",
   "metadata": {},
   "outputs": [
    {
     "name": "stdout",
     "output_type": "stream",
     "text": [
      "{'Grras': {'AWS': {'Trainers': ['Rajat', 'Sunil', 'Kapil']}, 'Python': {'Trainers': ['Simran', 'Deep', 'Gaurav']}, 'DS_ML': {'Trainers': ['Sachin', 'Simran', 'Deep']}, 'DA': {'Trainers': ['Vikash', 'Piyush', 'Akshita']}, 'Java': {'Trainers': ['Ashwani', 'Vikas', 'Chandan']}}}\n"
     ]
    }
   ],
   "source": [
    "print(d5)"
   ]
  },
  {
   "cell_type": "code",
   "execution_count": 29,
   "id": "cf2d9ed7",
   "metadata": {},
   "outputs": [
    {
     "data": {
      "text/plain": [
       "dict_keys(['Grras'])"
      ]
     },
     "execution_count": 29,
     "metadata": {},
     "output_type": "execute_result"
    }
   ],
   "source": [
    "d5.keys()"
   ]
  },
  {
   "cell_type": "code",
   "execution_count": 30,
   "id": "6227a765",
   "metadata": {},
   "outputs": [
    {
     "data": {
      "text/plain": [
       "dict_keys(['AWS', 'Python', 'DS_ML', 'DA', 'Java'])"
      ]
     },
     "execution_count": 30,
     "metadata": {},
     "output_type": "execute_result"
    }
   ],
   "source": [
    "d5['Grras'].keys()"
   ]
  },
  {
   "cell_type": "code",
   "execution_count": 36,
   "id": "88de738e",
   "metadata": {},
   "outputs": [
    {
     "data": {
      "text/plain": [
       "'narmiS'"
      ]
     },
     "execution_count": 36,
     "metadata": {},
     "output_type": "execute_result"
    }
   ],
   "source": [
    "d5['Grras']['Python']['Trainers'][0][::-1]"
   ]
  },
  {
   "cell_type": "code",
   "execution_count": 37,
   "id": "e2d6d343",
   "metadata": {},
   "outputs": [],
   "source": [
    "from pprint import pprint"
   ]
  },
  {
   "cell_type": "code",
   "execution_count": 38,
   "id": "f788fcc5",
   "metadata": {},
   "outputs": [
    {
     "name": "stdout",
     "output_type": "stream",
     "text": [
      "{'Grras': {'AWS': {'Trainers': ['Rajat', 'Sunil', 'Kapil']},\n",
      "           'DA': {'Trainers': ['Vikash', 'Piyush', 'Akshita']},\n",
      "           'DS_ML': {'Trainers': ['Sachin', 'Simran', 'Deep']},\n",
      "           'Java': {'Trainers': ['Ashwani', 'Vikas', 'Chandan']},\n",
      "           'Python': {'Trainers': ['Simran', 'Deep', 'Gaurav']}}}\n"
     ]
    }
   ],
   "source": [
    "pprint(d5)"
   ]
  },
  {
   "cell_type": "markdown",
   "id": "6ca457b9",
   "metadata": {},
   "source": [
    "#### Set"
   ]
  },
  {
   "cell_type": "code",
   "execution_count": 40,
   "id": "af01cdec",
   "metadata": {},
   "outputs": [],
   "source": [
    "#It is a collection of well defined object"
   ]
  },
  {
   "cell_type": "code",
   "execution_count": 41,
   "id": "9b6e01f7",
   "metadata": {},
   "outputs": [],
   "source": [
    "s = {1,1,1,1,2,21,3,12,41,24,13,123}"
   ]
  },
  {
   "cell_type": "code",
   "execution_count": 42,
   "id": "ebcf0533",
   "metadata": {},
   "outputs": [
    {
     "name": "stdout",
     "output_type": "stream",
     "text": [
      "{1, 2, 3, 41, 12, 13, 21, 24, 123}\n"
     ]
    }
   ],
   "source": [
    "print(s)"
   ]
  },
  {
   "cell_type": "code",
   "execution_count": 43,
   "id": "996224b8",
   "metadata": {},
   "outputs": [
    {
     "name": "stdout",
     "output_type": "stream",
     "text": [
      "{1, 2, 3, 41, 12, 13, 21, 24, 123} <class 'set'>\n"
     ]
    }
   ],
   "source": [
    "print(s,type(s))"
   ]
  },
  {
   "cell_type": "code",
   "execution_count": 44,
   "id": "efcd8b14",
   "metadata": {},
   "outputs": [
    {
     "name": "stdout",
     "output_type": "stream",
     "text": [
      "{1, 2, 3, 4, 5, 6, 7}\n"
     ]
    }
   ],
   "source": [
    "s1 = {1,2,3,4}\n",
    "s2 = {4,5,6,7}\n",
    "print(s1.union(s2))"
   ]
  },
  {
   "cell_type": "code",
   "execution_count": 45,
   "id": "20a0885a",
   "metadata": {},
   "outputs": [
    {
     "name": "stdout",
     "output_type": "stream",
     "text": [
      "{4}\n"
     ]
    }
   ],
   "source": [
    "print(s1.intersection(s2))"
   ]
  },
  {
   "cell_type": "code",
   "execution_count": 46,
   "id": "1fdca056",
   "metadata": {},
   "outputs": [
    {
     "name": "stdout",
     "output_type": "stream",
     "text": [
      "{1, 2, 3}\n"
     ]
    }
   ],
   "source": [
    "print(s1.difference(s2))"
   ]
  },
  {
   "cell_type": "code",
   "execution_count": 47,
   "id": "3e84ca65",
   "metadata": {},
   "outputs": [
    {
     "name": "stdout",
     "output_type": "stream",
     "text": [
      "{5, 6, 7}\n"
     ]
    }
   ],
   "source": [
    "print(s2.difference(s1))"
   ]
  },
  {
   "cell_type": "code",
   "execution_count": 48,
   "id": "8f4aedf3",
   "metadata": {},
   "outputs": [
    {
     "name": "stdout",
     "output_type": "stream",
     "text": [
      "{1, 2, 3, 5, 6, 7}\n"
     ]
    }
   ],
   "source": [
    "print(s1.symmetric_difference(s2))"
   ]
  },
  {
   "cell_type": "markdown",
   "id": "888acbed",
   "metadata": {},
   "source": [
    "1. Non-Sequential\n",
    "2. Unordered\n",
    "3. Mutable"
   ]
  },
  {
   "cell_type": "code",
   "execution_count": 49,
   "id": "bb14fdcd",
   "metadata": {},
   "outputs": [],
   "source": [
    "s = {'Sun','Mon','Tue','Wed','Thu','Fri','Sat'}"
   ]
  },
  {
   "cell_type": "code",
   "execution_count": 50,
   "id": "c5a8e807",
   "metadata": {},
   "outputs": [
    {
     "name": "stdout",
     "output_type": "stream",
     "text": [
      "{'Mon', 'Sat', 'Wed', 'Sun', 'Thu', 'Fri', 'Tue'}\n"
     ]
    }
   ],
   "source": [
    "print(s)"
   ]
  },
  {
   "cell_type": "code",
   "execution_count": 51,
   "id": "c0de16d0",
   "metadata": {},
   "outputs": [],
   "source": [
    "s.discard('Sun')"
   ]
  },
  {
   "cell_type": "code",
   "execution_count": 52,
   "id": "1696af6b",
   "metadata": {},
   "outputs": [
    {
     "name": "stdout",
     "output_type": "stream",
     "text": [
      "{'Mon', 'Sat', 'Wed', 'Thu', 'Fri', 'Tue'}\n"
     ]
    }
   ],
   "source": [
    "print(s)"
   ]
  },
  {
   "cell_type": "code",
   "execution_count": 53,
   "id": "48b85dd0",
   "metadata": {},
   "outputs": [],
   "source": [
    "s1 = frozenset(s)"
   ]
  },
  {
   "cell_type": "code",
   "execution_count": 54,
   "id": "4c42e0ef",
   "metadata": {},
   "outputs": [
    {
     "name": "stdout",
     "output_type": "stream",
     "text": [
      "frozenset({'Mon', 'Sat', 'Wed', 'Thu', 'Fri', 'Tue'}) <class 'frozenset'>\n"
     ]
    }
   ],
   "source": [
    "print(s1,type(s1))"
   ]
  },
  {
   "cell_type": "markdown",
   "id": "e7d00817",
   "metadata": {},
   "source": [
    "### Boolean\n",
    "\n",
    "    True\n",
    "    False"
   ]
  }
 ],
 "metadata": {
  "kernelspec": {
   "display_name": "Python 3 (ipykernel)",
   "language": "python",
   "name": "python3"
  },
  "language_info": {
   "codemirror_mode": {
    "name": "ipython",
    "version": 3
   },
   "file_extension": ".py",
   "mimetype": "text/x-python",
   "name": "python",
   "nbconvert_exporter": "python",
   "pygments_lexer": "ipython3",
   "version": "3.11.4"
  }
 },
 "nbformat": 4,
 "nbformat_minor": 5
}
