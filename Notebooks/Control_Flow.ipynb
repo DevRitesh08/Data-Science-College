{
 "cells": [
  {
   "cell_type": "markdown",
   "id": "17e49dbe",
   "metadata": {},
   "source": [
    "# Control Flow\n",
    "\n",
    "    - Conditional Statements\n",
    "        - if\n",
    "        - else\n",
    "        - if-elif-else\n",
    "        - if else branching\n",
    "        - if else ladder\n",
    "    - Iteration Statements\n",
    "        - while\n",
    "        - for\n",
    "    - Jump Statements\n",
    "        - break\n",
    "        - continue\n",
    "        - pass"
   ]
  },
  {
   "cell_type": "markdown",
   "id": "818dd39f",
   "metadata": {},
   "source": [
    "# Conditional Statements"
   ]
  },
  {
   "cell_type": "code",
   "execution_count": 1,
   "id": "8044d459",
   "metadata": {},
   "outputs": [],
   "source": [
    "#WAP to check whether a number is even or odd"
   ]
  },
  {
   "cell_type": "markdown",
   "id": "76f3cb2c",
   "metadata": {},
   "source": [
    "    num = int(input(\"Enter a numbe-->\"))\n",
    "    if condition:\n",
    "        statement..1\n",
    "        statement..2\n",
    "        ............\n",
    "        ...........n   #inside if\n",
    "    elif condition:\n",
    "        statement..1\n",
    "        statement..2\n",
    "        ............\n",
    "        ...........n   #inside elif\n",
    "    else:\n",
    "        statement..1\n",
    "        statement..2\n",
    "        ............\n",
    "        ...........n   #inside else"
   ]
  },
  {
   "cell_type": "code",
   "execution_count": 3,
   "id": "acce1c3b",
   "metadata": {},
   "outputs": [
    {
     "name": "stdout",
     "output_type": "stream",
     "text": [
      "Enter a number -->7\n",
      "7 is Odd\n"
     ]
    }
   ],
   "source": [
    "num = int(input(\"Enter a number -->\"))\n",
    "if num%2:\n",
    "    print(f\"{num} is Odd\")\n",
    "else:\n",
    "    print(f\"{num} is Even\")"
   ]
  },
  {
   "cell_type": "code",
   "execution_count": 5,
   "id": "edb61d88",
   "metadata": {},
   "outputs": [
    {
     "name": "stdout",
     "output_type": "stream",
     "text": [
      "Enter a number -->9\n",
      "9 is Odd\n"
     ]
    }
   ],
   "source": [
    "num = int(input(\"Enter a number -->\"))\n",
    "print(f\"{num} is Odd\") if num%2 else print(f\"{num} is Even\")"
   ]
  },
  {
   "cell_type": "code",
   "execution_count": 6,
   "id": "581360e1",
   "metadata": {},
   "outputs": [],
   "source": [
    "#TRUE if condition else FALSE"
   ]
  },
  {
   "cell_type": "code",
   "execution_count": 7,
   "id": "b9a499e1",
   "metadata": {},
   "outputs": [],
   "source": [
    "#WAP to check whether a given number is +ve,-ve or neutral"
   ]
  },
  {
   "cell_type": "code",
   "execution_count": 10,
   "id": "212ceb0a",
   "metadata": {},
   "outputs": [
    {
     "name": "stdout",
     "output_type": "stream",
     "text": [
      "Enter a number -->0\n",
      "0 is Neutral\n"
     ]
    }
   ],
   "source": [
    "num = int(input(\"Enter a number -->\"))\n",
    "if num>0:\n",
    "    print(f\"{num} is +ve\")\n",
    "elif num == 0:\n",
    "    print(f\"{num} is Neutral\")\n",
    "else:\n",
    "    print(f\"{num} is -ve\")"
   ]
  },
  {
   "cell_type": "code",
   "execution_count": 14,
   "id": "fc92b867",
   "metadata": {},
   "outputs": [
    {
     "name": "stdout",
     "output_type": "stream",
     "text": [
      "Enter a character -->            a\n",
      "            a is Vowel\n"
     ]
    }
   ],
   "source": [
    "ch = input(\"Enter a character -->\")\n",
    "if ch.lower().strip() in \"aeiou\":\n",
    "    print(f\"{ch} is Vowel\")\n",
    "else:\n",
    "    print(f\"{ch} is Consonant\")"
   ]
  },
  {
   "cell_type": "code",
   "execution_count": 15,
   "id": "5c136a04",
   "metadata": {},
   "outputs": [],
   "source": [
    "#take input for 5 subjects\n",
    "#calculate the percentage\n",
    "#print grades\n",
    "#90 above - A\n",
    "#70 - 90(inclusive) - B\n",
    "#50 - 70(inclusive) - C\n",
    "#35-50 - D\n",
    "#below 35 - F"
   ]
  },
  {
   "cell_type": "code",
   "execution_count": 25,
   "id": "1de52eda",
   "metadata": {},
   "outputs": [
    {
     "name": "stdout",
     "output_type": "stream",
     "text": [
      "Enter the marks of 5 subjects (space separated)-->67 56 89 56 78\n",
      "Grade --> C | Percentage --> 69.2\n"
     ]
    }
   ],
   "source": [
    "eng,hin,mat,cs,sc = map(int,input(\"Enter the marks of 5 subjects (space separated)-->\").split())\n",
    "per = (eng+hin+mat+cs+sc)/5\n",
    "if per>90:\n",
    "    print(f\"Grade --> A | Percentage --> {per}\")\n",
    "elif per>70:\n",
    "    print(f\"Grade --> B | Percentage --> {per}\")\n",
    "elif per>50:\n",
    "    print(f\"Grade --> C | Percentage --> {per}\")\n",
    "elif per>=35:\n",
    "    print(f\"Grade --> D | Percentage --> {per}\")\n",
    "else:\n",
    "    print(f\"Grade --> F | Percentage --> {per}\")"
   ]
  },
  {
   "cell_type": "code",
   "execution_count": 24,
   "id": "be094a68",
   "metadata": {},
   "outputs": [
    {
     "name": "stdout",
     "output_type": "stream",
     "text": [
      "67 <class 'int'>\n",
      "89 <class 'int'>\n"
     ]
    }
   ],
   "source": [
    "#int(['65','91'])\n",
    "print(eng,type(eng))\n",
    "print(mat,type(mat))"
   ]
  },
  {
   "cell_type": "code",
   "execution_count": 26,
   "id": "3808dce9",
   "metadata": {},
   "outputs": [],
   "source": [
    "#map(func,iterable)"
   ]
  },
  {
   "cell_type": "code",
   "execution_count": 29,
   "id": "56026c10",
   "metadata": {},
   "outputs": [
    {
     "name": "stdout",
     "output_type": "stream",
     "text": [
      "Enter the marks of 5 subjects (space separated)-->99 99 99 99 99\n",
      "Grade --> A | Percentage --> 99.0\n"
     ]
    }
   ],
   "source": [
    "eng,hin,mat,cs,sc = map(int,input(\"Enter the marks of 5 subjects (space separated)-->\").split())\n",
    "per = (eng+hin+mat+cs+sc)/5\n",
    "match per:\n",
    "    case per if per>90:\n",
    "        print(f\"Grade --> A | Percentage --> {per}\")\n",
    "    case per if per>70:\n",
    "        print(f\"Grade --> B | Percentage --> {per}\")\n",
    "    case per if per>50:\n",
    "        print(f\"Grade --> C | Percentage --> {per}\")\n",
    "    case per if per>=35:\n",
    "        print(f\"Grade --> D | Percentage --> {per}\")\n",
    "    case _:\n",
    "        print(f\"Grade --> F | Percentage --> {per}\")"
   ]
  },
  {
   "cell_type": "code",
   "execution_count": 35,
   "id": "ef9dbffa",
   "metadata": {},
   "outputs": [
    {
     "name": "stdout",
     "output_type": "stream",
     "text": [
      "Enter an amount -->500043\n",
      "No.of 500 notes --> 1000\n",
      "No.of 20 notes --> 2\n",
      "No.of 2 Conis --> 1\n",
      "No.of 1 Coins --> 1\n"
     ]
    }
   ],
   "source": [
    "amount = int(input(\"Enter an amount -->\"))\n",
    "if amount>=500:\n",
    "    notes_500 = amount//500\n",
    "    amount = amount%500\n",
    "    print(f\"No.of 500 notes --> {notes_500}\")\n",
    "if amount>=200:\n",
    "    notes_200 = amount//200\n",
    "    amount = amount%200\n",
    "    print(f\"No.of 200 notes --> {notes_200}\")\n",
    "if amount>=100:\n",
    "    notes_100 = amount//100\n",
    "    amount = amount%100\n",
    "    print(f\"No.of 100 notes --> {notes_100}\")\n",
    "if amount>=50:\n",
    "    notes_50 = amount//50\n",
    "    amount = amount%50\n",
    "    print(f\"No.of 50 notes --> {notes_50}\")\n",
    "if amount>=20:\n",
    "    notes_20 = amount//20\n",
    "    amount = amount%20\n",
    "    print(f\"No.of 20 notes --> {notes_20}\")\n",
    "if amount>=10:\n",
    "    notes_10 = amount//10\n",
    "    amount = amount%10\n",
    "    print(f\"No.of 10 notes --> {notes_10}\")\n",
    "if amount>=5:\n",
    "    notes_5 = amount//5\n",
    "    amount = amount%5\n",
    "    print(f\"No.of 5 Coins --> {notes_5}\")\n",
    "if amount>=2:\n",
    "    notes_2 = amount//2\n",
    "    amount = amount%2\n",
    "    print(f\"No.of 2 Conis --> {notes_2}\")\n",
    "if amount>=1:\n",
    "    notes_1 = amount//1\n",
    "    amount = amount%1\n",
    "    print(f\"No.of 1 Coins --> {notes_1}\")"
   ]
  },
  {
   "cell_type": "code",
   "execution_count": null,
   "id": "c50ea31b",
   "metadata": {},
   "outputs": [],
   "source": []
  }
 ],
 "metadata": {
  "kernelspec": {
   "display_name": "Python 3 (ipykernel)",
   "language": "python",
   "name": "python3"
  },
  "language_info": {
   "codemirror_mode": {
    "name": "ipython",
    "version": 3
   },
   "file_extension": ".py",
   "mimetype": "text/x-python",
   "name": "python",
   "nbconvert_exporter": "python",
   "pygments_lexer": "ipython3",
   "version": "3.11.4"
  }
 },
 "nbformat": 4,
 "nbformat_minor": 5
}
