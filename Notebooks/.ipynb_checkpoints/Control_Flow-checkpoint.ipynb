{
 "cells": [
  {
   "cell_type": "markdown",
   "id": "17e49dbe",
   "metadata": {},
   "source": [
    "# Control Flow\n",
    "\n",
    "    - Conditional Statements\n",
    "        - if\n",
    "        - else\n",
    "        - if-elif-else\n",
    "        - if else branching\n",
    "        - if else ladder\n",
    "    - Iteration Statements\n",
    "        - while\n",
    "        - for\n",
    "    - Jump Statements\n",
    "        - break\n",
    "        - continue\n",
    "        - pass"
   ]
  },
  {
   "cell_type": "markdown",
   "id": "818dd39f",
   "metadata": {},
   "source": [
    "# Conditional Statements"
   ]
  },
  {
   "cell_type": "code",
   "execution_count": 1,
   "id": "8044d459",
   "metadata": {},
   "outputs": [],
   "source": [
    "#WAP to check whether a number is even or odd"
   ]
  },
  {
   "cell_type": "code",
   "execution_count": null,
   "id": "b440c3f1",
   "metadata": {},
   "outputs": [],
   "source": [
    "num = int(input(\"Enter a numbe-->\"))\n",
    "if condition:\n",
    "    statement..1\n",
    "    "
   ]
  }
 ],
 "metadata": {
  "kernelspec": {
   "display_name": "Python 3 (ipykernel)",
   "language": "python",
   "name": "python3"
  },
  "language_info": {
   "codemirror_mode": {
    "name": "ipython",
    "version": 3
   },
   "file_extension": ".py",
   "mimetype": "text/x-python",
   "name": "python",
   "nbconvert_exporter": "python",
   "pygments_lexer": "ipython3",
   "version": "3.11.4"
  }
 },
 "nbformat": 4,
 "nbformat_minor": 5
}
