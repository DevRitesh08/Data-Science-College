{
 "cells": [
  {
   "cell_type": "markdown",
   "id": "871d1388",
   "metadata": {},
   "source": [
    "# Operators "
   ]
  },
  {
   "cell_type": "markdown",
   "id": "f3cf0481",
   "metadata": {},
   "source": [
    "- Arithmatic Operators\n",
    "    - Addition (+)\n",
    "    - Subtraction (-)\n",
    "    - Multiplication (*)\n",
    "    - True Division (/)\n",
    "    - Floor Division (//)\n",
    "    - Exponent (**)\n",
    "    - Modulus (%)\n",
    "- Logical Operators\n",
    "    - and\n",
    "    - or\n",
    "    - not\n",
    "- Relational Operatoes\n",
    "    - Greater than (>)\n",
    "    - Less than (<)\n",
    "    - Comparision (==)\n",
    "    - Not Equals (!=)\n",
    "    - GT Equals (>=)\n",
    "    - LT Equals (<=)\n",
    "- Assignment Operators\n",
    "    - Equals (=)\n",
    "    - Short Hand Operators\n",
    "        - +=\n",
    "        - -=\n",
    "        - /=\n",
    "        - //=\n",
    "        - *=\n",
    "        - **=\n",
    "        - %=\n",
    "- Membership Operators\n",
    "    - in\n",
    "    - not in\n",
    "- Identity Operators\n",
    "    - is\n",
    "    - is not\n",
    "- Bitwise Operators\n",
    "    - &\n",
    "    - |\n",
    "    - ^\n",
    "    - \\>>\n",
    "    - <<\n",
    "    - ~"
   ]
  },
  {
   "cell_type": "code",
   "execution_count": 3,
   "id": "0a783828",
   "metadata": {},
   "outputs": [
    {
     "name": "stdout",
     "output_type": "stream",
     "text": [
      "8\n",
      "8\n"
     ]
    }
   ],
   "source": [
    "a = 2\n",
    "b = 3\n",
    "print(a**b)\n",
    "print(pow(a,b))"
   ]
  },
  {
   "cell_type": "code",
   "execution_count": 5,
   "id": "f0672d47",
   "metadata": {},
   "outputs": [
    {
     "name": "stdout",
     "output_type": "stream",
     "text": [
      "3.3333333333333335\n"
     ]
    }
   ],
   "source": [
    "#true division\n",
    "a = 10\n",
    "b = 3\n",
    "print(a/b)"
   ]
  },
  {
   "cell_type": "code",
   "execution_count": 9,
   "id": "50ab0eb6",
   "metadata": {},
   "outputs": [
    {
     "name": "stdout",
     "output_type": "stream",
     "text": [
      "3.33\n"
     ]
    }
   ],
   "source": [
    "print(round(a/b,2))"
   ]
  },
  {
   "cell_type": "code",
   "execution_count": 13,
   "id": "c41e94ee",
   "metadata": {},
   "outputs": [
    {
     "name": "stdout",
     "output_type": "stream",
     "text": [
      "3.3333\n"
     ]
    }
   ],
   "source": [
    "print(f\"{a/b:.4f}\")"
   ]
  },
  {
   "cell_type": "code",
   "execution_count": 15,
   "id": "24ab255e",
   "metadata": {},
   "outputs": [
    {
     "name": "stdout",
     "output_type": "stream",
     "text": [
      "30.00%\n"
     ]
    }
   ],
   "source": [
    "print(f\"{b/a:.2%}\")"
   ]
  },
  {
   "cell_type": "code",
   "execution_count": 18,
   "id": "4509a52d",
   "metadata": {},
   "outputs": [
    {
     "name": "stdout",
     "output_type": "stream",
     "text": [
      "3\n"
     ]
    }
   ],
   "source": [
    "#floor div\n",
    "print(a//b)"
   ]
  },
  {
   "cell_type": "markdown",
   "id": "725c2ed7",
   "metadata": {},
   "source": [
    "### Membership"
   ]
  },
  {
   "cell_type": "code",
   "execution_count": 20,
   "id": "30243d9d",
   "metadata": {},
   "outputs": [
    {
     "name": "stdout",
     "output_type": "stream",
     "text": [
      "NOT FOUND!!\n"
     ]
    }
   ],
   "source": [
    "l = [2134,23,54,32,54,32,42]\n",
    "if 99 in l:\n",
    "    print(\"FOUND!!\")\n",
    "else:\n",
    "    print(\"NOT FOUND!!\")"
   ]
  },
  {
   "cell_type": "code",
   "execution_count": 22,
   "id": "b7aca8f0",
   "metadata": {},
   "outputs": [
    {
     "name": "stdout",
     "output_type": "stream",
     "text": [
      "True\n"
     ]
    }
   ],
   "source": [
    "print(\"a\" in \"Ravi\")"
   ]
  },
  {
   "cell_type": "code",
   "execution_count": 23,
   "id": "943b7c09",
   "metadata": {},
   "outputs": [
    {
     "name": "stdout",
     "output_type": "stream",
     "text": [
      "False\n"
     ]
    }
   ],
   "source": [
    "print(\"z\" in \"Ravi\")"
   ]
  },
  {
   "cell_type": "code",
   "execution_count": 29,
   "id": "564f047e",
   "metadata": {},
   "outputs": [
    {
     "name": "stdout",
     "output_type": "stream",
     "text": [
      "False\n"
     ]
    }
   ],
   "source": [
    "print(\"z\" not in \"zavi\")"
   ]
  },
  {
   "cell_type": "markdown",
   "id": "f4f261fd",
   "metadata": {},
   "source": [
    "### Identity Operators"
   ]
  },
  {
   "cell_type": "code",
   "execution_count": 30,
   "id": "db082770",
   "metadata": {},
   "outputs": [],
   "source": [
    "#small memory elements"
   ]
  },
  {
   "cell_type": "code",
   "execution_count": 31,
   "id": "52e112ca",
   "metadata": {},
   "outputs": [
    {
     "name": "stdout",
     "output_type": "stream",
     "text": [
      "True\n"
     ]
    }
   ],
   "source": [
    "a = 5\n",
    "b = 5\n",
    "print(a is b)"
   ]
  },
  {
   "cell_type": "code",
   "execution_count": 33,
   "id": "187db1b3",
   "metadata": {},
   "outputs": [
    {
     "name": "stdout",
     "output_type": "stream",
     "text": [
      "False\n",
      "True\n"
     ]
    }
   ],
   "source": [
    "l1 = [1,2,3]\n",
    "l2 = [1,2,3]\n",
    "print(l1 is l2) #id\n",
    "print(l1 == l2)#value"
   ]
  },
  {
   "cell_type": "code",
   "execution_count": 35,
   "id": "12354d38",
   "metadata": {},
   "outputs": [
    {
     "name": "stdout",
     "output_type": "stream",
     "text": [
      "False\n",
      "True\n"
     ]
    }
   ],
   "source": [
    "d1 = {'a':4,'b':6}\n",
    "d3 = {'a':4,'b':6}\n",
    "print(d1 is d3)\n",
    "print(d1==d3)"
   ]
  },
  {
   "cell_type": "code",
   "execution_count": 38,
   "id": "a0934fe3",
   "metadata": {},
   "outputs": [
    {
     "name": "stdout",
     "output_type": "stream",
     "text": [
      "False\n",
      "True\n"
     ]
    },
    {
     "name": "stderr",
     "output_type": "stream",
     "text": [
      "<>:1: SyntaxWarning: \"is not\" with a literal. Did you mean \"!=\"?\n",
      "<>:1: SyntaxWarning: \"is not\" with a literal. Did you mean \"!=\"?\n",
      "C:\\Users\\Ravi Ramawat\\AppData\\Local\\Temp\\ipykernel_24516\\4138423215.py:1: SyntaxWarning: \"is not\" with a literal. Did you mean \"!=\"?\n",
      "  print(\"a\" is not \"a\")\n"
     ]
    }
   ],
   "source": [
    "print(\"a\" is not \"a\")\n",
    "print(l1 is not l2)"
   ]
  },
  {
   "cell_type": "markdown",
   "id": "e4008426",
   "metadata": {},
   "source": [
    "#### Bitwise Operators"
   ]
  },
  {
   "cell_type": "code",
   "execution_count": 39,
   "id": "84c7b94a",
   "metadata": {},
   "outputs": [],
   "source": [
    "#bitwise &"
   ]
  },
  {
   "cell_type": "code",
   "execution_count": 40,
   "id": "bc7ccfd8",
   "metadata": {},
   "outputs": [
    {
     "name": "stdout",
     "output_type": "stream",
     "text": [
      "0\n"
     ]
    }
   ],
   "source": [
    "print(3&12)"
   ]
  },
  {
   "cell_type": "code",
   "execution_count": 41,
   "id": "f8b40630",
   "metadata": {},
   "outputs": [
    {
     "name": "stdout",
     "output_type": "stream",
     "text": [
      "4\n"
     ]
    }
   ],
   "source": [
    "print(12&5)"
   ]
  },
  {
   "cell_type": "code",
   "execution_count": 43,
   "id": "7d6d9bc8",
   "metadata": {},
   "outputs": [
    {
     "name": "stdout",
     "output_type": "stream",
     "text": [
      "19\n"
     ]
    }
   ],
   "source": [
    "#bitwise OR\n",
    "print(16|3)"
   ]
  },
  {
   "cell_type": "code",
   "execution_count": 45,
   "id": "5b96af75",
   "metadata": {},
   "outputs": [
    {
     "name": "stdout",
     "output_type": "stream",
     "text": [
      "0b10000\n",
      "0b11\n"
     ]
    }
   ],
   "source": [
    "print(bin(16)) #decimal to binary\n",
    "print(bin(3))"
   ]
  },
  {
   "cell_type": "code",
   "execution_count": 46,
   "id": "0e5b60ae",
   "metadata": {},
   "outputs": [
    {
     "name": "stdout",
     "output_type": "stream",
     "text": [
      "19\n"
     ]
    }
   ],
   "source": [
    "print(0b10011) #binary to decimal"
   ]
  },
  {
   "cell_type": "markdown",
   "id": "af8e09c6",
   "metadata": {},
   "source": [
    "#XOR"
   ]
  },
  {
   "cell_type": "code",
   "execution_count": 47,
   "id": "be612880",
   "metadata": {},
   "outputs": [
    {
     "name": "stdout",
     "output_type": "stream",
     "text": [
      "13\n"
     ]
    }
   ],
   "source": [
    "print(4^9)"
   ]
  },
  {
   "cell_type": "code",
   "execution_count": 48,
   "id": "4261a020",
   "metadata": {},
   "outputs": [],
   "source": [
    "#Right Shift"
   ]
  },
  {
   "cell_type": "code",
   "execution_count": 56,
   "id": "f676e149",
   "metadata": {},
   "outputs": [
    {
     "name": "stdout",
     "output_type": "stream",
     "text": [
      "3\n"
     ]
    }
   ],
   "source": [
    "print(1000>>8)"
   ]
  },
  {
   "cell_type": "code",
   "execution_count": 62,
   "id": "43c09df7",
   "metadata": {},
   "outputs": [
    {
     "name": "stdout",
     "output_type": "stream",
     "text": [
      "320\n"
     ]
    }
   ],
   "source": [
    "print(5<<6)"
   ]
  },
  {
   "cell_type": "code",
   "execution_count": 63,
   "id": "f724ba87",
   "metadata": {},
   "outputs": [
    {
     "name": "stdout",
     "output_type": "stream",
     "text": [
      "224\n"
     ]
    }
   ],
   "source": [
    "print(7<<5)"
   ]
  },
  {
   "cell_type": "code",
   "execution_count": 64,
   "id": "20cc511e",
   "metadata": {},
   "outputs": [],
   "source": [
    "#-(x+1)"
   ]
  },
  {
   "cell_type": "code",
   "execution_count": 66,
   "id": "f84aff21",
   "metadata": {},
   "outputs": [
    {
     "name": "stdout",
     "output_type": "stream",
     "text": [
      "6\n"
     ]
    }
   ],
   "source": [
    "print(~-7)"
   ]
  },
  {
   "cell_type": "code",
   "execution_count": 67,
   "id": "7cc8d1eb",
   "metadata": {},
   "outputs": [
    {
     "name": "stdout",
     "output_type": "stream",
     "text": [
      "-10\n"
     ]
    }
   ],
   "source": [
    "print(~9)"
   ]
  }
 ],
 "metadata": {
  "kernelspec": {
   "display_name": "Python 3 (ipykernel)",
   "language": "python",
   "name": "python3"
  },
  "language_info": {
   "codemirror_mode": {
    "name": "ipython",
    "version": 3
   },
   "file_extension": ".py",
   "mimetype": "text/x-python",
   "name": "python",
   "nbconvert_exporter": "python",
   "pygments_lexer": "ipython3",
   "version": "3.11.4"
  }
 },
 "nbformat": 4,
 "nbformat_minor": 5
}
